{
 "cells": [
  {
   "cell_type": "markdown",
   "metadata": {},
   "source": [
    "# Base du language"
   ]
  },
  {
   "cell_type": "markdown",
   "metadata": {
    "collapsed": true
   },
   "source": [
    "Assignment la valeur 1 a la variable a\n",
    "Cette variable est typé ici c'est un entier = integer = int\n",
    "\n",
    "sdfsdf"
   ]
  },
  {
   "cell_type": "code",
   "execution_count": 2,
   "metadata": {},
   "outputs": [
    {
     "name": "stdout",
     "output_type": "stream",
     "text": [
      "1\n",
      "<class 'int'>\n"
     ]
    }
   ],
   "source": [
    "a = 1\n",
    "print(a)\n",
    "print(type(a))"
   ]
  },
  {
   "cell_type": "markdown",
   "metadata": {},
   "source": [
    "Il y adifférent type en python"
   ]
  },
  {
   "cell_type": "code",
   "execution_count": 3,
   "metadata": {},
   "outputs": [
    {
     "name": "stdout",
     "output_type": "stream",
     "text": [
      "2.456\n",
      "<class 'float'>\n"
     ]
    }
   ],
   "source": [
    "b = 2.456\n",
    "print(b)\n",
    "print(type(b))"
   ]
  },
  {
   "cell_type": "markdown",
   "metadata": {},
   "source": [
    "On peut effectuer des opérations sur ces variables\n",
    "Notez le changement de type."
   ]
  },
  {
   "cell_type": "code",
   "execution_count": 4,
   "metadata": {},
   "outputs": [
    {
     "name": "stdout",
     "output_type": "stream",
     "text": [
      "3.456\n",
      "<class 'float'>\n"
     ]
    }
   ],
   "source": [
    "c = a+b\n",
    "print(c)\n",
    "print(type(c))\n"
   ]
  },
  {
   "cell_type": "markdown",
   "metadata": {},
   "source": [
    "Gestion des chaines de carractères"
   ]
  },
  {
   "cell_type": "code",
   "execution_count": 6,
   "metadata": {},
   "outputs": [
    {
     "name": "stdout",
     "output_type": "stream",
     "text": [
      "hello\n",
      "<class 'str'>\n"
     ]
    }
   ],
   "source": [
    "s = 'hello'\n",
    "print(s)\n",
    "print(type(s))\n"
   ]
  },
  {
   "cell_type": "code",
   "execution_count": 9,
   "metadata": {},
   "outputs": [
    {
     "name": "stdout",
     "output_type": "stream",
     "text": [
      "hel'lo\n"
     ]
    }
   ],
   "source": [
    "s2 =   \"hel'lo\"  \n",
    "print(s2)"
   ]
  },
  {
   "cell_type": "code",
   "execution_count": 11,
   "metadata": {},
   "outputs": [
    {
     "name": "stdout",
     "output_type": "stream",
     "text": [
      "youpi\n",
      "\n",
      "éè $ ê\n",
      "\n",
      "\n",
      "sdfsdfsdf\n",
      "\n"
     ]
    }
   ],
   "source": [
    "s3 = \"\"\"youpi\n",
    "\n",
    "éè $ ê\n",
    "\n",
    "\n",
    "sdfsdfsdf\n",
    "\"\"\"\n",
    "print(s3)\n"
   ]
  },
  {
   "cell_type": "markdown",
   "metadata": {},
   "source": [
    "Opération sur str"
   ]
  },
  {
   "cell_type": "code",
   "execution_count": 13,
   "metadata": {},
   "outputs": [
    {
     "name": "stdout",
     "output_type": "stream",
     "text": [
      "youpi\n",
      "\n",
      "éè $ ê\n",
      "\n",
      "\n",
      "sdfsdfsdf\n",
      "hel'loyoupi\n",
      "\n",
      "éè $ ê\n",
      "\n",
      "\n",
      "sdfsdfsdf\n",
      "\n"
     ]
    }
   ],
   "source": [
    "s4 = s3+s2+s3\n",
    "print(s4)\n"
   ]
  },
  {
   "cell_type": "markdown",
   "metadata": {},
   "source": [
    "Chaque variable est un object qui a des méthodes:"
   ]
  },
  {
   "cell_type": "code",
   "execution_count": 17,
   "metadata": {},
   "outputs": [
    {
     "data": {
      "text/plain": [
       "\"YOUPI\\n\\nÉÈ $ Ê\\n\\n\\nSDFSDFSDF\\nHEL'LOYOUPI\\n\\nÉÈ $ Ê\\n\\n\\nSDFSDFSDF\\n\""
      ]
     },
     "execution_count": 17,
     "metadata": {},
     "output_type": "execute_result"
    }
   ],
   "source": [
    "s4.upper()"
   ]
  },
  {
   "cell_type": "markdown",
   "metadata": {},
   "source": [
    "Formatage des str"
   ]
  },
  {
   "cell_type": "code",
   "execution_count": 19,
   "metadata": {},
   "outputs": [
    {
     "data": {
      "text/plain": [
       "'ma variable est 3.456 !'"
      ]
     },
     "execution_count": 19,
     "metadata": {},
     "output_type": "execute_result"
    }
   ],
   "source": [
    "s5 = 'ma variable est '+str(c)+' !'\n",
    "s5\n"
   ]
  },
  {
   "cell_type": "code",
   "execution_count": 21,
   "metadata": {},
   "outputs": [
    {
     "name": "stdout",
     "output_type": "stream",
     "text": [
      "3.56 <class 'str'>\n",
      "3.56 <class 'float'>\n"
     ]
    }
   ],
   "source": [
    "s6 = '3.56'\n",
    "print(s6, type(s6))\n",
    "f6 = float(s6)\n",
    "print(f6, type(f6))"
   ]
  },
  {
   "cell_type": "code",
   "execution_count": 22,
   "metadata": {},
   "outputs": [
    {
     "data": {
      "text/plain": [
       "'ma variable est 3.456 !'"
      ]
     },
     "execution_count": 22,
     "metadata": {},
     "output_type": "execute_result"
    }
   ],
   "source": [
    "s5 = f'ma variable est {c} !'\n",
    "s5"
   ]
  },
  {
   "cell_type": "code",
   "execution_count": 24,
   "metadata": {},
   "outputs": [
    {
     "data": {
      "text/plain": [
       "'ma variable est 3.456'"
      ]
     },
     "execution_count": 24,
     "metadata": {},
     "output_type": "execute_result"
    }
   ],
   "source": [
    "s5 = 'ma variable est {}'.format(c)\n",
    "s5"
   ]
  },
  {
   "cell_type": "markdown",
   "metadata": {},
   "source": [
    "Autre type util : bool et complex"
   ]
  },
  {
   "cell_type": "code",
   "execution_count": 28,
   "metadata": {},
   "outputs": [
    {
     "name": "stdout",
     "output_type": "stream",
     "text": [
      "False <class 'bool'>\n"
     ]
    }
   ],
   "source": [
    "flag1 = True\n",
    "flag2 = False\n",
    "flag3 = flag1 and flag2\n",
    "print(flag3, type(flag1))\n"
   ]
  },
  {
   "cell_type": "code",
   "execution_count": 30,
   "metadata": {},
   "outputs": [
    {
     "name": "stdout",
     "output_type": "stream",
     "text": [
      "(50+50j) <class 'complex'>\n"
     ]
    }
   ],
   "source": [
    "c = 50 + 50j\n",
    "print(c, type(c))"
   ]
  },
  {
   "cell_type": "markdown",
   "metadata": {},
   "source": [
    "# Création d'un function\n",
    "\n",
    "On peut créer des functions avec des variables en entrée et une variable de sortie.\n",
    "\n",
    "Attention a l'indentation celà definit le **block**.\n",
    "\n",
    "En python c'est 4 espaces.\n",
    "\n"
   ]
  },
  {
   "cell_type": "code",
   "execution_count": 40,
   "metadata": {},
   "outputs": [
    {
     "name": "stdout",
     "output_type": "stream",
     "text": [
      "resultat: 5+4=9\n"
     ]
    }
   ],
   "source": [
    "def mon_add(a, b):\n",
    "    c = a+b\n",
    "    s = f'resultat: {a}+{b}={c}'\n",
    "    return s\n",
    "\n",
    "\n",
    "res = mon_add(5, 4)\n",
    "print(res)\n"
   ]
  },
  {
   "cell_type": "code",
   "execution_count": 38,
   "metadata": {},
   "outputs": [
    {
     "name": "stdout",
     "output_type": "stream",
     "text": [
      "resultat: 3+77=80\n"
     ]
    }
   ],
   "source": [
    "aa = 3\n",
    "bb = 77\n",
    "res = mon_add(aa, bb)\n",
    "print(res)\n"
   ]
  },
  {
   "cell_type": "markdown",
   "metadata": {},
   "source": [
    "Il peut y avoir plusieurs varibales de sortie."
   ]
  },
  {
   "cell_type": "code",
   "execution_count": 43,
   "metadata": {},
   "outputs": [
    {
     "name": "stdout",
     "output_type": "stream",
     "text": [
      "resultat: 5+4=9\n",
      "9\n"
     ]
    }
   ],
   "source": [
    "def mon_add_bis(a, b):\n",
    "    c = a+b\n",
    "    s = f'resultat: {a}+{b}={c}'\n",
    "    return s, c\n",
    "\n",
    "res, res2 = mon_add_bis(5, 4)\n",
    "print(res)\n",
    "print(res2)\n"
   ]
  },
  {
   "cell_type": "markdown",
   "metadata": {},
   "source": [
    "Python permet d'avoir des variables facultatives."
   ]
  },
  {
   "cell_type": "code",
   "execution_count": 47,
   "metadata": {},
   "outputs": [
    {
     "name": "stdout",
     "output_type": "stream",
     "text": [
      "resultat: 3+77+1+3=84\n",
      "resultat: 3+77+6+9=95\n",
      "resultat: 3+77+1+9=90\n"
     ]
    }
   ],
   "source": [
    "def mon_add_ter(a, b, c=1, d=3):\n",
    "    t = a+b+c+d\n",
    "    s = f'resultat: {a}+{b}+{c}+{d}={t}'\n",
    "    return s\n",
    "\n",
    "res = mon_add_ter(aa, bb)\n",
    "print(res)\n",
    "res = mon_add_ter(aa, bb, c = 6, d = 9)\n",
    "print(res)\n",
    "res = mon_add_ter(aa, bb, d = 9)\n",
    "print(res)\n"
   ]
  },
  {
   "cell_type": "markdown",
   "metadata": {},
   "source": [
    "Voir uniquement des varibales facultatives."
   ]
  },
  {
   "cell_type": "code",
   "execution_count": 50,
   "metadata": {},
   "outputs": [
    {
     "name": "stdout",
     "output_type": "stream",
     "text": [
      "resultat: 1+3=4\n"
     ]
    }
   ],
   "source": [
    "def mon_add_4(c = 1, d = 3):\n",
    "    t = c+d\n",
    "    s = f'resultat: {c}+{d}={t}'\n",
    "    return s\n",
    "\n",
    "res = mon_add_4() # ici y'a rien\n",
    "print(res)\n"
   ]
  },
  {
   "cell_type": "markdown",
   "metadata": {},
   "source": [
    "# Quelques opérateurs courants:\n",
    " * addition soustraction\n",
    " * multiplication division division entière\n",
    " * puissance\n",
    " * opérateur boolean\n",
    " \n",
    "Attention en python 2.X et 3.X la division n'est pas la même!!!!!! c'est mieux en python3.X"
   ]
  },
  {
   "cell_type": "code",
   "execution_count": 54,
   "metadata": {},
   "outputs": [
    {
     "name": "stdout",
     "output_type": "stream",
     "text": [
      "202\n"
     ]
    }
   ],
   "source": [
    "a, b, c = 2, 10, 20\n",
    "r = a + b * c\n",
    "print(r)\n"
   ]
  },
  {
   "cell_type": "code",
   "execution_count": 58,
   "metadata": {},
   "outputs": [
    {
     "name": "stdout",
     "output_type": "stream",
     "text": [
      "3.3333333333333335\n",
      "3\n",
      "3\n"
     ]
    }
   ],
   "source": [
    "a, b = 3, 10\n",
    "r = b / a\n",
    "print(r)\n",
    "r = b // a # division entière\n",
    "print(r)\n",
    "print(a % b)"
   ]
  },
  {
   "cell_type": "code",
   "execution_count": 61,
   "metadata": {},
   "outputs": [
    {
     "name": "stdout",
     "output_type": "stream",
     "text": [
      "729.0\n",
      "3.0\n"
     ]
    }
   ],
   "source": [
    "a = 27.\n",
    "r = a ** 2\n",
    "print(r)\n",
    "r = a ** (1/3)\n",
    "print(r)"
   ]
  },
  {
   "cell_type": "markdown",
   "metadata": {},
   "source": [
    "# attention opérateur booléan amélioré\n",
    "and or not"
   ]
  },
  {
   "cell_type": "code",
   "execution_count": 63,
   "metadata": {},
   "outputs": [
    {
     "name": "stdout",
     "output_type": "stream",
     "text": [
      "False\n"
     ]
    }
   ],
   "source": [
    "\n",
    "a = True\n",
    "b = True\n",
    "res = not(a or b)\n",
    "print(res)"
   ]
  },
  {
   "cell_type": "markdown",
   "metadata": {},
   "source": [
    "# attention opérateur booléan classique = bit a bit\n",
    "& | ~"
   ]
  },
  {
   "cell_type": "code",
   "execution_count": 65,
   "metadata": {},
   "outputs": [
    {
     "name": "stdout",
     "output_type": "stream",
     "text": [
      "0xf003\n",
      "0xff03\n"
     ]
    }
   ],
   "source": [
    "# attention opérateur booléan classique = agit bit a bit\n",
    "a = 0xff03\n",
    "b = 0xf003\n",
    "res = (a & b)\n",
    "print(hex(res))\n",
    "res2 = (a | b)\n",
    "print(hex(res2))"
   ]
  },
  {
   "cell_type": "markdown",
   "metadata": {},
   "source": [
    "# Block conditionnel"
   ]
  },
  {
   "cell_type": "code",
   "execution_count": 73,
   "metadata": {},
   "outputs": [
    {
     "name": "stdout",
     "output_type": "stream",
     "text": [
      "je suis hyper content\n"
     ]
    }
   ],
   "source": [
    "pval = .00065424\n",
    "seuil = 0.001\n",
    "\n",
    "if pval < seuil:\n",
    "    print('je suis hyper content')\n",
    "elif pval == seuil:\n",
    "    print(\"personne n'en saura rien\")\n",
    "else:\n",
    "    print(\"qui m'a piqué mon cyanure\")\n"
   ]
  },
  {
   "cell_type": "markdown",
   "metadata": {},
   "source": [
    "# object list\n",
    "\n",
    "suite d'éléments hétrogènes.\n",
    "\n",
    "accessible par index entier."
   ]
  },
  {
   "cell_type": "code",
   "execution_count": 74,
   "metadata": {},
   "outputs": [
    {
     "name": "stdout",
     "output_type": "stream",
     "text": [
      "[12, 34.0, 4, 'lkjlkj']\n",
      "<class 'list'>\n"
     ]
    }
   ],
   "source": [
    "l = [12, 34., 4, 'lkjlkj' ]\n",
    "print(l)\n",
    "print(type(l))\n"
   ]
  },
  {
   "cell_type": "code",
   "execution_count": 75,
   "metadata": {},
   "outputs": [
    {
     "name": "stdout",
     "output_type": "stream",
     "text": [
      "[12, 34.0, 4, 'lkjlkj', 12, 34.0]\n"
     ]
    }
   ],
   "source": [
    "l2 = [12, 34.,]  \n",
    "l3 = l+l2\n",
    "print(l3)\n"
   ]
  },
  {
   "cell_type": "markdown",
   "metadata": {},
   "source": [
    "On peut accéder et écrire dans une liste avec son index (zero based)"
   ]
  },
  {
   "cell_type": "code",
   "execution_count": 77,
   "metadata": {},
   "outputs": [
    {
     "name": "stdout",
     "output_type": "stream",
     "text": [
      "34.0\n",
      "[12, 34.0, 40, 'lkjlkj']\n",
      "[12, 34.0, 40, 'lkjlkj']\n"
     ]
    }
   ],
   "source": [
    "a = l[1]\n",
    "print(a)\n",
    "a = l[3]\n",
    "print(l)\n",
    "l[2] = 40\n",
    "print(l)\n"
   ]
  },
  {
   "cell_type": "markdown",
   "metadata": {},
   "source": [
    "Différent syntax"
   ]
  },
  {
   "cell_type": "code",
   "execution_count": 79,
   "metadata": {},
   "outputs": [],
   "source": [
    "l = list()\n",
    "l = []\n"
   ]
  },
  {
   "cell_type": "markdown",
   "metadata": {},
   "source": [
    "Ajout d'un élément  à une liste"
   ]
  },
  {
   "cell_type": "code",
   "execution_count": 80,
   "metadata": {},
   "outputs": [
    {
     "name": "stdout",
     "output_type": "stream",
     "text": [
      "[10.0, 'yep']\n"
     ]
    }
   ],
   "source": [
    "l = []\n",
    "l.append(10.)\n",
    "l.append('yep')\n",
    "print(l)"
   ]
  },
  {
   "cell_type": "code",
   "execution_count": 82,
   "metadata": {},
   "outputs": [
    {
     "name": "stdout",
     "output_type": "stream",
     "text": [
      "[10.0, 'yep', 10.0, 'yep', 10.0, 'yep', 10.0, 'yep']\n"
     ]
    }
   ],
   "source": [
    "l3 = l+l+l+l\n",
    "l3 = l*4\n",
    "print(l3)\n"
   ]
  },
  {
   "cell_type": "markdown",
   "metadata": {},
   "source": [
    "# object dict\n",
    "collections d'élément hétérogène accesible par clef.\n",
    "\n",
    "\n",
    "\n"
   ]
  },
  {
   "cell_type": "code",
   "execution_count": 84,
   "metadata": {},
   "outputs": [],
   "source": [
    "d = dict()\n",
    "d = { }\n",
    "d = {'a' : 1.,\n",
    "     'b' : 60, \n",
    "     'c' : 'lkjlkj'  }\n"
   ]
  },
  {
   "cell_type": "code",
   "execution_count": 85,
   "metadata": {},
   "outputs": [
    {
     "name": "stdout",
     "output_type": "stream",
     "text": [
      "1.0\n",
      "lkjlkj\n"
     ]
    }
   ],
   "source": [
    "print(d['a'])\n",
    "print(d['c'])\n"
   ]
  },
  {
   "cell_type": "code",
   "execution_count": 88,
   "metadata": {},
   "outputs": [
    {
     "name": "stdout",
     "output_type": "stream",
     "text": [
      "50\n",
      "{'a': 1.0, 'b': 60, 'c': 50}\n"
     ]
    }
   ],
   "source": [
    "d['c'] = 50\n",
    "print(d['c'])\n",
    "print(d)"
   ]
  },
  {
   "cell_type": "markdown",
   "metadata": {},
   "source": [
    " on peut ajouter un nouvelle paire clef/valeur"
   ]
  },
  {
   "cell_type": "code",
   "execution_count": 89,
   "metadata": {},
   "outputs": [],
   "source": [
    "d['x'] = 'youpi'"
   ]
  },
  {
   "cell_type": "code",
   "execution_count": 90,
   "metadata": {},
   "outputs": [
    {
     "name": "stdout",
     "output_type": "stream",
     "text": [
      "dict_keys(['a', 'b', 'c', 'x'])\n"
     ]
    }
   ],
   "source": [
    "print(d.keys())"
   ]
  },
  {
   "cell_type": "code",
   "execution_count": 91,
   "metadata": {},
   "outputs": [
    {
     "name": "stdout",
     "output_type": "stream",
     "text": [
      "dict_values([1.0, 60, 50, 'youpi'])\n"
     ]
    }
   ],
   "source": [
    "print(d.values())"
   ]
  },
  {
   "cell_type": "markdown",
   "metadata": {},
   "source": [
    "# création et importation d'un bibliothèque externe\n",
    "\n",
    "On peut créer des bibliothèques =module = package de function.\n",
    "On les utilise avec import.\n",
    "\n",
    "\n"
   ]
  },
  {
   "cell_type": "markdown",
   "metadata": {},
   "source": [
    "    # Exercice 1\n",
    "\n",
    "créer deux fichier:\n",
    "  * monscript1.py\n",
    "  * mabibliotheque.py\n",
    "\n",
    "créer une fonction dans bibliotheque.py\n",
    "\n",
    "et appeler cette fonction depsui monscript1.py\n",
    "\n",
    "\n"
   ]
  },
  {
   "cell_type": "markdown",
   "metadata": {},
   "source": [
    "# Solution 1"
   ]
  },
  {
   "cell_type": "code",
   "execution_count": null,
   "metadata": {},
   "outputs": [],
   "source": [
    "\n"
   ]
  },
  {
   "cell_type": "markdown",
   "metadata": {},
   "source": [
    "# 4 méthodes pour import"
   ]
  },
  {
   "cell_type": "code",
   "execution_count": 93,
   "metadata": {},
   "outputs": [
    {
     "data": {
      "text/plain": [
       "array([0., 0., 0., 0., 0.])"
      ]
     },
     "execution_count": 93,
     "metadata": {},
     "output_type": "execute_result"
    }
   ],
   "source": [
    "# cas 1\n",
    "import numpy\n",
    "numpy.zeros(5)\n"
   ]
  },
  {
   "cell_type": "code",
   "execution_count": 95,
   "metadata": {},
   "outputs": [
    {
     "data": {
      "text/plain": [
       "array([0., 0., 0., 0., 0.])"
      ]
     },
     "execution_count": 95,
     "metadata": {},
     "output_type": "execute_result"
    }
   ],
   "source": [
    "# cas 2\n",
    "import numpy as np\n",
    "np.zeros(5)\n"
   ]
  },
  {
   "cell_type": "code",
   "execution_count": 96,
   "metadata": {},
   "outputs": [
    {
     "data": {
      "text/plain": [
       "array([0., 0., 0., 0., 0.])"
      ]
     },
     "execution_count": 96,
     "metadata": {},
     "output_type": "execute_result"
    }
   ],
   "source": [
    "# cas 3\n",
    "from numpy import zeros, ones\n",
    "zeros(5)"
   ]
  },
  {
   "cell_type": "code",
   "execution_count": 97,
   "metadata": {},
   "outputs": [
    {
     "data": {
      "text/plain": [
       "array([0., 0., 0., 0., 0.])"
      ]
     },
     "execution_count": 97,
     "metadata": {},
     "output_type": "execute_result"
    }
   ],
   "source": [
    "# cas 4\n",
    "from numpy import *\n",
    "zeros(5)"
   ]
  },
  {
   "cell_type": "markdown",
   "metadata": {},
   "source": [
    "On peut utiliser un sous module"
   ]
  },
  {
   "cell_type": "code",
   "execution_count": 98,
   "metadata": {},
   "outputs": [
    {
     "data": {
      "text/plain": [
       "<function scipy.signal.signaltools.filtfilt(b, a, x, axis=-1, padtype='odd', padlen=None, method='pad', irlen=None)>"
      ]
     },
     "execution_count": 98,
     "metadata": {},
     "output_type": "execute_result"
    }
   ],
   "source": [
    "import scipy.signal\n",
    "scipy.signal.filtfilt"
   ]
  },
  {
   "cell_type": "code",
   "execution_count": null,
   "metadata": {
    "collapsed": true
   },
   "outputs": [],
   "source": []
  },
  {
   "cell_type": "code",
   "execution_count": null,
   "metadata": {
    "collapsed": true
   },
   "outputs": [],
   "source": []
  }
 ],
 "metadata": {
  "kernelspec": {
   "display_name": "Python 3",
   "language": "python",
   "name": "python3"
  },
  "language_info": {
   "codemirror_mode": {
    "name": "ipython",
    "version": 3
   },
   "file_extension": ".py",
   "mimetype": "text/x-python",
   "name": "python",
   "nbconvert_exporter": "python",
   "pygments_lexer": "ipython3",
   "version": "3.8.5"
  }
 },
 "nbformat": 4,
 "nbformat_minor": 1
}
