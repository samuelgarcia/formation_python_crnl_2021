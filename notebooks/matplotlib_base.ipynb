{
 "cells": [
  {
   "cell_type": "markdown",
   "metadata": {},
   "source": [
    "# Matplotlib base"
   ]
  },
  {
   "cell_type": "code",
   "execution_count": 29,
   "metadata": {},
   "outputs": [],
   "source": [
    "# %matplotlib inline\n",
    "# %matplotlib notebook\n",
    "%matplotlib widget"
   ]
  },
  {
   "cell_type": "code",
   "execution_count": 6,
   "metadata": {},
   "outputs": [],
   "source": [
    "import matplotlib.pyplot as plt\n",
    "import numpy as np"
   ]
  },
  {
   "cell_type": "code",
   "execution_count": 7,
   "metadata": {},
   "outputs": [],
   "source": [
    "a = np.array([3., 5.6,3.3, 4.7,])"
   ]
  },
  {
   "cell_type": "code",
   "execution_count": 8,
   "metadata": {
    "scrolled": true
   },
   "outputs": [
    {
     "data": {
      "application/vnd.jupyter.widget-view+json": {
       "model_id": "d69d69cc4e584242a40c8e457a3bce37",
       "version_major": 2,
       "version_minor": 0
      },
      "text/plain": [
       "Canvas(toolbar=Toolbar(toolitems=[('Home', 'Reset original view', 'home', 'home'), ('Back', 'Back to previous …"
      ]
     },
     "metadata": {},
     "output_type": "display_data"
    },
    {
     "data": {
      "text/plain": [
       "[<matplotlib.lines.Line2D at 0x7f476565f400>]"
      ]
     },
     "execution_count": 8,
     "metadata": {},
     "output_type": "execute_result"
    }
   ],
   "source": [
    "    plt.plot(a)"
   ]
  },
  {
   "cell_type": "markdown",
   "metadata": {},
   "source": [
    "# Il faut avoir une approche objet!!\n",
    "\n",
    "De mieux choisir explicitement, si on tarce 2 courbes sur 2 figures ou sur une seule."
   ]
  },
  {
   "cell_type": "code",
   "execution_count": 10,
   "metadata": {},
   "outputs": [
    {
     "data": {
      "application/vnd.jupyter.widget-view+json": {
       "model_id": "89cfce03009f4601a7adfa6a7249f941",
       "version_major": 2,
       "version_minor": 0
      },
      "text/plain": [
       "Canvas(toolbar=Toolbar(toolitems=[('Home', 'Reset original view', 'home', 'home'), ('Back', 'Back to previous …"
      ]
     },
     "metadata": {},
     "output_type": "display_data"
    },
    {
     "name": "stdout",
     "output_type": "stream",
     "text": [
      "<class 'matplotlib.figure.Figure'>\n",
      "<class 'matplotlib.axes._subplots.AxesSubplot'>\n"
     ]
    },
    {
     "data": {
      "text/plain": [
       "Text(0, 0.5, 'weigth')"
      ]
     },
     "execution_count": 10,
     "metadata": {},
     "output_type": "execute_result"
    }
   ],
   "source": [
    "fig, ax = plt.subplots()\n",
    "print(type(fig))\n",
    "print(type(ax))\n",
    "ax.plot(a)\n",
    "ax.plot(a**2, color='r')\n",
    "ax.set_title('weigth evolution')\n",
    "ax.set_xlabel('age')\n",
    "ax.set_ylabel('weigth')"
   ]
  },
  {
   "cell_type": "markdown",
   "metadata": {},
   "source": [
    "Celà permet aussi de générer une grille de subplot."
   ]
  },
  {
   "cell_type": "code",
   "execution_count": 17,
   "metadata": {},
   "outputs": [
    {
     "data": {
      "application/vnd.jupyter.widget-view+json": {
       "model_id": "f06078c84ca24bb780edf997843d1ef5",
       "version_major": 2,
       "version_minor": 0
      },
      "text/plain": [
       "Canvas(toolbar=Toolbar(toolitems=[('Home', 'Reset original view', 'home', 'home'), ('Back', 'Back to previous …"
      ]
     },
     "metadata": {},
     "output_type": "display_data"
    }
   ],
   "source": [
    "# on fait une grille\n",
    "fig, axs = plt.subplots(nrows=2, ncols=3)\n",
    "for r in range(2):\n",
    "    for c in range(3):\n",
    "        ax = axs[r,c]\n",
    "        ax.plot(np.random.rand(5))\n",
    "        ax.set_title(f'row{r} col{c}')\n",
    "        ax.set_xticks([])\n",
    "        ax.set_yticks([])\n",
    "fig.savefig('mafigure.svg')\n"
   ]
  },
  {
   "cell_type": "markdown",
   "metadata": {},
   "source": [
    "# 2 variables"
   ]
  },
  {
   "cell_type": "code",
   "execution_count": 24,
   "metadata": {},
   "outputs": [
    {
     "data": {
      "application/vnd.jupyter.widget-view+json": {
       "model_id": "e87ef000774549099cb84685fe010522",
       "version_major": 2,
       "version_minor": 0
      },
      "text/plain": [
       "Canvas(toolbar=Toolbar(toolitems=[('Home', 'Reset original view', 'home', 'home'), ('Back', 'Back to previous …"
      ]
     },
     "metadata": {},
     "output_type": "display_data"
    },
    {
     "data": {
      "text/plain": [
       "<matplotlib.legend.Legend at 0x7f47648e0ee0>"
      ]
     },
     "execution_count": 24,
     "metadata": {},
     "output_type": "execute_result"
    }
   ],
   "source": [
    "fig, ax = plt.subplots()\n",
    "a = np.array([1, 1.4, 5, 6.3])\n",
    "w = np.array([10, 15.3, 24, 50.])\n",
    "w2 = w[::-1]\n",
    "ax.plot(a, w, marker='o', linestyle='-', color='m', markerfacecolor='#FF8000', label='animal1')\n",
    "ax.plot(a, w2, marker='*', linestyle='--', color='g', markerfacecolor='#C280FF', label='animal2')\n",
    "ax.set_title('weight evolution')\n",
    "ax.set_xlabel('age')\n",
    "ax.set_ylabel('weight')\n",
    "ax.set_xlim(0,10)\n",
    "ax.set_ylim(0,100)\n",
    "ax.legend()"
   ]
  },
  {
   "cell_type": "markdown",
   "metadata": {
    "collapsed": true
   },
   "source": [
    " # scatter plot\n",
    " pour un nuage de point c'est identique mais sauf le line style"
   ]
  },
  {
   "cell_type": "code",
   "execution_count": 27,
   "metadata": {},
   "outputs": [
    {
     "data": {
      "application/vnd.jupyter.widget-view+json": {
       "model_id": "3ee361a0b8af4046b7fa155d2f46fd45",
       "version_major": 2,
       "version_minor": 0
      },
      "text/plain": [
       "Canvas(toolbar=Toolbar(toolitems=[('Home', 'Reset original view', 'home', 'home'), ('Back', 'Back to previous …"
      ]
     },
     "metadata": {},
     "output_type": "display_data"
    },
    {
     "data": {
      "text/plain": [
       "[<matplotlib.lines.Line2D at 0x7f476476fb80>]"
      ]
     },
     "execution_count": 27,
     "metadata": {},
     "output_type": "execute_result"
    }
   ],
   "source": [
    "fig, ax = plt.subplots()\n",
    "x = np.random.randn(200)*2+5\n",
    "y = np.random.randn(200)/2+2\n",
    "ax.plot(x, y, marker='o', linestyle='None', )\n"
   ]
  },
  {
   "cell_type": "code",
   "execution_count": 28,
   "metadata": {},
   "outputs": [
    {
     "name": "stderr",
     "output_type": "stream",
     "text": [
      "<ipython-input-28-fc641cd2b41d>:1: RuntimeWarning: More than 20 figures have been opened. Figures created through the pyplot interface (`matplotlib.pyplot.figure`) are retained until explicitly closed and may consume too much memory. (To control this warning, see the rcParam `figure.max_open_warning`).\n",
      "  fig, ax = plt.subplots()\n"
     ]
    },
    {
     "data": {
      "application/vnd.jupyter.widget-view+json": {
       "model_id": "a5a5dd623b79479aab638752bcac9c04",
       "version_major": 2,
       "version_minor": 0
      },
      "text/plain": [
       "Canvas(toolbar=Toolbar(toolitems=[('Home', 'Reset original view', 'home', 'home'), ('Back', 'Back to previous …"
      ]
     },
     "metadata": {},
     "output_type": "display_data"
    },
    {
     "data": {
      "text/plain": [
       "<matplotlib.collections.PathCollection at 0x7f4762f4c4f0>"
      ]
     },
     "execution_count": 28,
     "metadata": {},
     "output_type": "execute_result"
    }
   ],
   "source": [
    "fig, ax = plt.subplots()\n",
    "ax.scatter(x, y, marker='o')"
   ]
  },
  {
   "cell_type": "markdown",
   "metadata": {},
   "source": [
    "# Excercice 1\n",
    "\n",
    "\n",
    "Créer un signal sinusoidal de frequence 5Hz entre 0 et 3.s.\n",
    "\n",
    "Aide : il faut créer un vecteur **temps**\n",
    "\n",
    "frequence echantillonage de 1000Hz\n"
   ]
  },
  {
   "cell_type": "markdown",
   "metadata": {
    "collapsed": true
   },
   "source": [
    "# Solution 1"
   ]
  },
  {
   "cell_type": "code",
   "execution_count": 37,
   "metadata": {},
   "outputs": [
    {
     "data": {
      "application/vnd.jupyter.widget-view+json": {
       "model_id": "f962fabbe95d43ed9e9e06aec571d194",
       "version_major": 2,
       "version_minor": 0
      },
      "text/plain": [
       "Canvas(toolbar=Toolbar(toolitems=[('Home', 'Reset original view', 'home', 'home'), ('Back', 'Back to previous …"
      ]
     },
     "metadata": {},
     "output_type": "display_data"
    },
    {
     "data": {
      "text/plain": [
       "[<matplotlib.lines.Line2D at 0x7f4762d452e0>]"
      ]
     },
     "execution_count": 37,
     "metadata": {},
     "output_type": "execute_result"
    }
   ],
   "source": [
    "freq = 5.\n",
    "sample_rate = 1000.\n",
    "duration = 3.\n",
    "times = np.arange(0, duration, 1/sample_rate)\n",
    "\n",
    "sig = np.sin(times * 2 * np.pi * freq)\n",
    "\n",
    "fig, ax = plt.subplots()\n",
    "ax.plot(times, sig)\n",
    "\n"
   ]
  },
  {
   "cell_type": "markdown",
   "metadata": {},
   "source": [
    "# exercice 2\n",
    "\n",
    "Idem exercice 1 mais avec du bruit blanc.\n",
    "\n"
   ]
  },
  {
   "cell_type": "markdown",
   "metadata": {},
   "source": [
    "# Solution 2"
   ]
  },
  {
   "cell_type": "code",
   "execution_count": 39,
   "metadata": {},
   "outputs": [
    {
     "data": {
      "application/vnd.jupyter.widget-view+json": {
       "model_id": "a6fd39d32e3a4cefa2d95d9e85c63b2d",
       "version_major": 2,
       "version_minor": 0
      },
      "text/plain": [
       "Canvas(toolbar=Toolbar(toolitems=[('Home', 'Reset original view', 'home', 'home'), ('Back', 'Back to previous …"
      ]
     },
     "metadata": {},
     "output_type": "display_data"
    },
    {
     "data": {
      "text/plain": [
       "[<matplotlib.lines.Line2D at 0x7f47625b98b0>]"
      ]
     },
     "execution_count": 39,
     "metadata": {},
     "output_type": "execute_result"
    }
   ],
   "source": [
    "freq = 5.\n",
    "sample_rate = 1000\n",
    "times = np.arange(0, 3, 1./sample_rate)\n",
    "sig = np.sin(2*np.pi*freq*times) * 3.5\n",
    "noise = np.random.randn(sig.shape[0]) * .5\n",
    "sig = sig + noise\n",
    "fig, ax = plt.subplots()\n",
    "ax.plot(times, sig)\n",
    "\n"
   ]
  },
  {
   "cell_type": "markdown",
   "metadata": {},
   "source": [
    "# histogram\n",
    "numpy propose une fonction histogram qui renvois count, bins.\n",
    "Attention le vecteur bins correspond au limites de bins donc count.size = bins.size - 1\n"
   ]
  },
  {
   "cell_type": "code",
   "execution_count": 44,
   "metadata": {},
   "outputs": [
    {
     "data": {
      "application/vnd.jupyter.widget-view+json": {
       "model_id": "b135da1b92924457ab1d81ea136fbe18",
       "version_major": 2,
       "version_minor": 0
      },
      "text/plain": [
       "Canvas(toolbar=Toolbar(toolitems=[('Home', 'Reset original view', 'home', 'home'), ('Back', 'Back to previous …"
      ]
     },
     "metadata": {},
     "output_type": "display_data"
    },
    {
     "data": {
      "text/plain": [
       "[<matplotlib.lines.Line2D at 0x7f47623084c0>]"
      ]
     },
     "execution_count": 44,
     "metadata": {},
     "output_type": "execute_result"
    }
   ],
   "source": [
    "#TODO detail du count\n",
    "a = np.concatenate([np.random.randn(1000)*.2-.4, np.random.randn(4000)+1.6])\n",
    "bins = np.arange(-1, 1, .1)\n",
    "count, bins = np.histogram(a, bins=bins)\n",
    "fig, ax = plt.subplots()\n",
    "ax.bar(bins[:-1],count,width=.1)\n",
    "ax.plot(bins[:-1],count, color='r')"
   ]
  },
  {
   "cell_type": "code",
   "execution_count": 46,
   "metadata": {},
   "outputs": [
    {
     "data": {
      "application/vnd.jupyter.widget-view+json": {
       "model_id": "2390e9b98603406d846dcdca27ddf1fb",
       "version_major": 2,
       "version_minor": 0
      },
      "text/plain": [
       "Canvas(toolbar=Toolbar(toolitems=[('Home', 'Reset original view', 'home', 'home'), ('Back', 'Back to previous …"
      ]
     },
     "metadata": {},
     "output_type": "display_data"
    },
    {
     "data": {
      "text/plain": [
       "(array([  1.,   0.,   0.,   1.,   4.,   3.,   4.,   7.,  29.,  85., 192.,\n",
       "        322., 279., 196., 121.,  88.,  91., 108., 146., 147., 164., 206.,\n",
       "        205., 216., 238., 258., 201., 235., 210., 192., 157., 179., 131.,\n",
       "        117., 115.,  88.,  77.,  36.,  45.,  32.,  32.,  18.,   8.,   4.,\n",
       "          5.,   1.,   3.,   0.,   2.,   1.]),\n",
       " array([-2.13043434, -1.985696  , -1.84095767, -1.69621933, -1.55148099,\n",
       "        -1.40674266, -1.26200432, -1.11726598, -0.97252765, -0.82778931,\n",
       "        -0.68305098, -0.53831264, -0.3935743 , -0.24883597, -0.10409763,\n",
       "         0.0406407 ,  0.18537904,  0.33011738,  0.47485571,  0.61959405,\n",
       "         0.76433239,  0.90907072,  1.05380906,  1.19854739,  1.34328573,\n",
       "         1.48802407,  1.6327624 ,  1.77750074,  1.92223908,  2.06697741,\n",
       "         2.21171575,  2.35645408,  2.50119242,  2.64593076,  2.79066909,\n",
       "         2.93540743,  3.08014577,  3.2248841 ,  3.36962244,  3.51436077,\n",
       "         3.65909911,  3.80383745,  3.94857578,  4.09331412,  4.23805245,\n",
       "         4.38279079,  4.52752913,  4.67226746,  4.8170058 ,  4.96174414,\n",
       "         5.10648247]),\n",
       " <BarContainer object of 50 artists>)"
      ]
     },
     "execution_count": 46,
     "metadata": {},
     "output_type": "execute_result"
    }
   ],
   "source": [
    "#plus simplement\n",
    "fig, ax = plt.subplots()\n",
    "ax.hist(a, bins=50)"
   ]
  },
  {
   "cell_type": "markdown",
   "metadata": {},
   "source": [
    "# image"
   ]
  },
  {
   "cell_type": "code",
   "execution_count": 54,
   "metadata": {},
   "outputs": [
    {
     "data": {
      "application/vnd.jupyter.widget-view+json": {
       "model_id": "027afe6f7a4b4224bd093dfb43446062",
       "version_major": 2,
       "version_minor": 0
      },
      "text/plain": [
       "Canvas(toolbar=Toolbar(toolitems=[('Home', 'Reset original view', 'home', 'home'), ('Back', 'Back to previous …"
      ]
     },
     "metadata": {},
     "output_type": "display_data"
    },
    {
     "data": {
      "text/plain": [
       "<matplotlib.colorbar.Colorbar at 0x7f4761c33490>"
      ]
     },
     "execution_count": 54,
     "metadata": {},
     "output_type": "execute_result"
    }
   ],
   "source": [
    "# generationdes data : une belle boite d'oeuf vu du dessus\n",
    "x = np.cos(np.linspace(0, 4*np.pi, 1000))\n",
    "y = np.sin(np.linspace(0, 4*np.pi, 1000))\n",
    "X,Y = np.meshgrid(x,y)\n",
    "data = Y*X\n",
    "\n",
    "# attention interpolation\n",
    "fig, ax = plt.subplots()\n",
    "im = ax.imshow(data, cmap='hot', interpolation='nearest')\n",
    "im.set_clim(-2, 2)\n",
    "fig.colorbar(im, ax=ax)"
   ]
  },
  {
   "cell_type": "markdown",
   "metadata": {},
   "source": [
    "# fill_between"
   ]
  },
  {
   "cell_type": "code",
   "execution_count": 55,
   "metadata": {},
   "outputs": [
    {
     "data": {
      "application/vnd.jupyter.widget-view+json": {
       "model_id": "b2a594fd7cc442e8a3ba1068aa81a461",
       "version_major": 2,
       "version_minor": 0
      },
      "text/plain": [
       "Canvas(toolbar=Toolbar(toolitems=[('Home', 'Reset original view', 'home', 'home'), ('Back', 'Back to previous …"
      ]
     },
     "metadata": {},
     "output_type": "display_data"
    },
    {
     "data": {
      "text/plain": [
       "[<matplotlib.lines.Line2D at 0x7f4761b44970>]"
      ]
     },
     "execution_count": 55,
     "metadata": {},
     "output_type": "execute_result"
    }
   ],
   "source": [
    "fig, ax = plt.subplots()\n",
    "x = np.arange(0,30, .1)\n",
    "y1 = x**3\n",
    "y2 = x**3.5\n",
    "m = (y1 + y2)/2\n",
    "\n",
    "ax.fill_between(x, y1, y2, color='y', alpha=.4)\n",
    "ax.plot(x, m, color='k')\n"
   ]
  },
  {
   "cell_type": "markdown",
   "metadata": {},
   "source": [
    "# excerice 3\n",
    "\n",
    "  * Générer 9 signaux sinusoidaux de frequence 5Hz entre 0 et 3.s.\n",
    "  * Chaque signal a niveau de bruit de plus en plus grand (faire un peu comme on veut)\n",
    "  * Sur la figure 1 : Afficher chaque signal dans un subplot sur une grille\n",
    "  * Sur la figure 2 : afficher la moyenne et la std."
   ]
  },
  {
   "cell_type": "markdown",
   "metadata": {},
   "source": [
    "# Solution 3"
   ]
  },
  {
   "cell_type": "code",
   "execution_count": null,
   "metadata": {},
   "outputs": [],
   "source": [
    "\n"
   ]
  },
  {
   "cell_type": "code",
   "execution_count": null,
   "metadata": {},
   "outputs": [],
   "source": []
  },
  {
   "cell_type": "code",
   "execution_count": null,
   "metadata": {},
   "outputs": [],
   "source": []
  },
  {
   "cell_type": "code",
   "execution_count": null,
   "metadata": {},
   "outputs": [],
   "source": []
  }
 ],
 "metadata": {
  "kernelspec": {
   "display_name": "Python 3",
   "language": "python",
   "name": "python3"
  },
  "language_info": {
   "codemirror_mode": {
    "name": "ipython",
    "version": 3
   },
   "file_extension": ".py",
   "mimetype": "text/x-python",
   "name": "python",
   "nbconvert_exporter": "python",
   "pygments_lexer": "ipython3",
   "version": "3.8.5"
  }
 },
 "nbformat": 4,
 "nbformat_minor": 1
}
