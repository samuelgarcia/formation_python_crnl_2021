{
 "cells": [
  {
   "cell_type": "markdown",
   "metadata": {},
   "source": [
    "# Matplotlib base"
   ]
  },
  {
   "cell_type": "code",
   "execution_count": 1,
   "metadata": {},
   "outputs": [],
   "source": [
    "#%matplotlib inline\n",
    "%matplotlib widget"
   ]
  },
  {
   "cell_type": "code",
   "execution_count": 2,
   "metadata": {},
   "outputs": [],
   "source": [
    "import matplotlib.pyplot as plt\n",
    "import numpy as np"
   ]
  },
  {
   "cell_type": "code",
   "execution_count": 3,
   "metadata": {},
   "outputs": [],
   "source": [
    "a = np.array([3., 5.6,3.3, 4.5,])"
   ]
  },
  {
   "cell_type": "code",
   "execution_count": 4,
   "metadata": {
    "scrolled": true
   },
   "outputs": [
    {
     "data": {
      "application/vnd.jupyter.widget-view+json": {
       "model_id": "be720e3950ef4da79a5e567456a7c420",
       "version_major": 2,
       "version_minor": 0
      },
      "text/plain": [
       "Canvas(toolbar=Toolbar(toolitems=[('Home', 'Reset original view', 'home', 'home'), ('Back', 'Back to previous …"
      ]
     },
     "metadata": {},
     "output_type": "display_data"
    },
    {
     "data": {
      "text/plain": [
       "[<matplotlib.lines.Line2D at 0x7f1415c6d640>]"
      ]
     },
     "execution_count": 4,
     "metadata": {},
     "output_type": "execute_result"
    }
   ],
   "source": [
    "plt.plot(a)"
   ]
  },
  {
   "cell_type": "markdown",
   "metadata": {},
   "source": [
    "# Il faut avoir une approche objet!!\n",
    "\n",
    "De mieux choisir explicitement, si on tarce 2 courbes sur 2 figures ou sur une seule."
   ]
  },
  {
   "cell_type": "code",
   "execution_count": 5,
   "metadata": {},
   "outputs": [
    {
     "data": {
      "application/vnd.jupyter.widget-view+json": {
       "model_id": "a4ba5717fd4342fba190c468ab27bb3b",
       "version_major": 2,
       "version_minor": 0
      },
      "text/plain": [
       "Canvas(toolbar=Toolbar(toolitems=[('Home', 'Reset original view', 'home', 'home'), ('Back', 'Back to previous …"
      ]
     },
     "metadata": {},
     "output_type": "display_data"
    },
    {
     "name": "stdout",
     "output_type": "stream",
     "text": [
      "<class 'matplotlib.figure.Figure'>\n",
      "<class 'matplotlib.axes._subplots.AxesSubplot'>\n"
     ]
    },
    {
     "data": {
      "text/plain": [
       "Text(0, 0.5, 'weigth')"
      ]
     },
     "execution_count": 5,
     "metadata": {},
     "output_type": "execute_result"
    }
   ],
   "source": [
    "fig, ax = plt.subplots()\n",
    "print(type(fig))\n",
    "print(type(ax))\n",
    "ax.plot(a)\n",
    "ax.plot(a**2, color='r')\n",
    "ax.set_title('weigth evolution')\n",
    "ax.set_xlabel('age')\n",
    "ax.set_ylabel('weigth')"
   ]
  },
  {
   "cell_type": "markdown",
   "metadata": {},
   "source": [
    "Celà permet aussi de générer une grille de subplot."
   ]
  },
  {
   "cell_type": "code",
   "execution_count": 6,
   "metadata": {},
   "outputs": [
    {
     "data": {
      "application/vnd.jupyter.widget-view+json": {
       "model_id": "6eb493c679da4d7eb2d501e80205fbb6",
       "version_major": 2,
       "version_minor": 0
      },
      "text/plain": [
       "Canvas(toolbar=Toolbar(toolitems=[('Home', 'Reset original view', 'home', 'home'), ('Back', 'Back to previous …"
      ]
     },
     "metadata": {},
     "output_type": "display_data"
    }
   ],
   "source": [
    "# on fait une grille\n",
    "fig, axs = plt.subplots(nrows=2, ncols=3)\n",
    "for r in range(2):\n",
    "    for c in range(3):\n",
    "        ax = axs[r,c]\n",
    "        ax.plot(np.random.rand(5))\n",
    "        ax.set_title('row{} col{}'.format(r,c))\n",
    "        ax.set_xticks([])\n",
    "        ax.set_yticks([])\n",
    "fig.savefig('mafigure.png')\n"
   ]
  },
  {
   "cell_type": "markdown",
   "metadata": {},
   "source": [
    "# 2 variables"
   ]
  },
  {
   "cell_type": "code",
   "execution_count": 7,
   "metadata": {},
   "outputs": [
    {
     "data": {
      "application/vnd.jupyter.widget-view+json": {
       "model_id": "8af66afb720d4dd68a24406d40af40c9",
       "version_major": 2,
       "version_minor": 0
      },
      "text/plain": [
       "Canvas(toolbar=Toolbar(toolitems=[('Home', 'Reset original view', 'home', 'home'), ('Back', 'Back to previous …"
      ]
     },
     "metadata": {},
     "output_type": "display_data"
    },
    {
     "data": {
      "text/plain": [
       "<matplotlib.legend.Legend at 0x7f140d9c66d0>"
      ]
     },
     "execution_count": 7,
     "metadata": {},
     "output_type": "execute_result"
    }
   ],
   "source": [
    "fig, ax = plt.subplots()\n",
    "a = np.array([1, 1.4, 5, 6.3])\n",
    "w = np.array([10, 15.3, 24, 50.])\n",
    "w2 = w[::-1]\n",
    "ax.plot(a, w, marker='o', linestyle='--', color='m', markerfacecolor='#FF8000', label='animal1')\n",
    "ax.plot(a, w2, marker='*', linestyle='--', color='g', markerfacecolor='#C280FF', label='animal2')\n",
    "ax.set_title('weight evolution')\n",
    "ax.set_xlabel('age')\n",
    "ax.set_ylabel('weight')\n",
    "ax.set_xlim(0,10)\n",
    "ax.set_ylim(0,100)\n",
    "ax.legend()"
   ]
  },
  {
   "cell_type": "markdown",
   "metadata": {
    "collapsed": true
   },
   "source": [
    " # scatter plot\n",
    " pour un nuage de point c'est identique mais sauf le line style"
   ]
  },
  {
   "cell_type": "code",
   "execution_count": 8,
   "metadata": {},
   "outputs": [
    {
     "data": {
      "application/vnd.jupyter.widget-view+json": {
       "model_id": "f7ae44270fe54e25b0c00e13c2f2454c",
       "version_major": 2,
       "version_minor": 0
      },
      "text/plain": [
       "Canvas(toolbar=Toolbar(toolitems=[('Home', 'Reset original view', 'home', 'home'), ('Back', 'Back to previous …"
      ]
     },
     "metadata": {},
     "output_type": "display_data"
    },
    {
     "data": {
      "text/plain": [
       "[<matplotlib.lines.Line2D at 0x7f140d984910>]"
      ]
     },
     "execution_count": 8,
     "metadata": {},
     "output_type": "execute_result"
    }
   ],
   "source": [
    "fig, ax = plt.subplots()\n",
    "x = np.random.randn(200)*2+5\n",
    "y = np.random.randn(200)/2+2\n",
    "ax.plot(x, y, marker='o', linestyle='None', )\n"
   ]
  },
  {
   "cell_type": "code",
   "execution_count": 10,
   "metadata": {},
   "outputs": [
    {
     "data": {
      "application/vnd.jupyter.widget-view+json": {
       "model_id": "aacc75f9b9494c04b5dfa62032b29746",
       "version_major": 2,
       "version_minor": 0
      },
      "text/plain": [
       "Canvas(toolbar=Toolbar(toolitems=[('Home', 'Reset original view', 'home', 'home'), ('Back', 'Back to previous …"
      ]
     },
     "metadata": {},
     "output_type": "display_data"
    },
    {
     "data": {
      "text/plain": [
       "<matplotlib.collections.PathCollection at 0x7f140d8e28b0>"
      ]
     },
     "execution_count": 10,
     "metadata": {},
     "output_type": "execute_result"
    }
   ],
   "source": [
    "fig, ax = plt.subplots()\n",
    "ax.scatter(x, y, marker='o')"
   ]
  },
  {
   "cell_type": "markdown",
   "metadata": {},
   "source": [
    "# Excercice 1\n",
    "\n",
    "\n",
    "Créer un signal sinusoidal de frequence 5Hz entre 0 et 3.s.\n",
    "\n",
    "Aide : il faut créer un vecteur **temps**\n",
    "\n",
    "frequence echantillonage de 1000Hz\n"
   ]
  },
  {
   "cell_type": "markdown",
   "metadata": {
    "collapsed": true
   },
   "source": [
    "# Solution 1"
   ]
  },
  {
   "cell_type": "code",
   "execution_count": null,
   "metadata": {},
   "outputs": [],
   "source": [
    "\n"
   ]
  },
  {
   "cell_type": "markdown",
   "metadata": {},
   "source": [
    "# exercice 2\n",
    "\n",
    "Idem exercice 1 mais avec du bruit blanc.\n",
    "\n"
   ]
  },
  {
   "cell_type": "markdown",
   "metadata": {},
   "source": [
    "# Solution 2"
   ]
  },
  {
   "cell_type": "code",
   "execution_count": null,
   "metadata": {},
   "outputs": [],
   "source": [
    "\n"
   ]
  },
  {
   "cell_type": "markdown",
   "metadata": {},
   "source": [
    "# histogram\n",
    "numpy propose une fonction histogram qui renvois count, bins.\n",
    "Attention le vecteur bins correspond au limites de bins donc count.size = bins.size - 1\n"
   ]
  },
  {
   "cell_type": "code",
   "execution_count": 13,
   "metadata": {},
   "outputs": [
    {
     "data": {
      "application/vnd.jupyter.widget-view+json": {
       "model_id": "478fb33f7ac04bbc851114d8f2ddb697",
       "version_major": 2,
       "version_minor": 0
      },
      "text/plain": [
       "Canvas(toolbar=Toolbar(toolitems=[('Home', 'Reset original view', 'home', 'home'), ('Back', 'Back to previous …"
      ]
     },
     "metadata": {},
     "output_type": "display_data"
    },
    {
     "data": {
      "text/plain": [
       "<BarContainer object of 19 artists>"
      ]
     },
     "execution_count": 13,
     "metadata": {},
     "output_type": "execute_result"
    }
   ],
   "source": [
    "#TODO detail du count\n",
    "a = np.concatenate([np.random.randn(1000)*.2-.4, np.random.randn(4000)+1.6])\n",
    "bins = np.arange(-1, 1, .1)\n",
    "count, bins = np.histogram(a, bins=bins)\n",
    "fig, ax = plt.subplots()\n",
    "ax.bar(bins[:-1],count,width=.1)"
   ]
  },
  {
   "cell_type": "code",
   "execution_count": 14,
   "metadata": {},
   "outputs": [
    {
     "data": {
      "application/vnd.jupyter.widget-view+json": {
       "model_id": "ced041c5044349d1a8cab5196bdcaaf5",
       "version_major": 2,
       "version_minor": 0
      },
      "text/plain": [
       "Canvas(toolbar=Toolbar(toolitems=[('Home', 'Reset original view', 'home', 'home'), ('Back', 'Back to previous …"
      ]
     },
     "metadata": {},
     "output_type": "display_data"
    },
    {
     "data": {
      "text/plain": [
       "(array([  3.,   1.,   3.,   1.,   2.,   6.,   7.,  28.,  51., 135., 239.,\n",
       "        303., 223., 171., 110.,  72.,  99.,  96.,  95., 138., 162., 150.,\n",
       "        189., 209., 209., 193., 200., 196., 220., 166., 176., 184., 150.,\n",
       "        136., 129., 124.,  87.,  72.,  48.,  50.,  45.,  33.,  23.,  17.,\n",
       "         15.,   9.,   8.,   7.,   5.,   5.]),\n",
       " array([-1.89614977, -1.76529446, -1.63443914, -1.50358383, -1.37272852,\n",
       "        -1.2418732 , -1.11101789, -0.98016258, -0.84930726, -0.71845195,\n",
       "        -0.58759664, -0.45674132, -0.32588601, -0.19503069, -0.06417538,\n",
       "         0.06667993,  0.19753525,  0.32839056,  0.45924587,  0.59010119,\n",
       "         0.7209565 ,  0.85181181,  0.98266713,  1.11352244,  1.24437775,\n",
       "         1.37523307,  1.50608838,  1.63694369,  1.76779901,  1.89865432,\n",
       "         2.02950963,  2.16036495,  2.29122026,  2.42207557,  2.55293089,\n",
       "         2.6837862 ,  2.81464151,  2.94549683,  3.07635214,  3.20720745,\n",
       "         3.33806277,  3.46891808,  3.59977339,  3.73062871,  3.86148402,\n",
       "         3.99233933,  4.12319465,  4.25404996,  4.38490527,  4.51576059,\n",
       "         4.6466159 ]),\n",
       " <BarContainer object of 50 artists>)"
      ]
     },
     "execution_count": 14,
     "metadata": {},
     "output_type": "execute_result"
    }
   ],
   "source": [
    "#plus simplement\n",
    "fig, ax = plt.subplots()\n",
    "ax.hist(a, bins=50)"
   ]
  },
  {
   "cell_type": "markdown",
   "metadata": {},
   "source": [
    "# image"
   ]
  },
  {
   "cell_type": "code",
   "execution_count": 15,
   "metadata": {},
   "outputs": [
    {
     "data": {
      "application/vnd.jupyter.widget-view+json": {
       "model_id": "1e9b4ccdd240440db0319866ba9f74f5",
       "version_major": 2,
       "version_minor": 0
      },
      "text/plain": [
       "Canvas(toolbar=Toolbar(toolitems=[('Home', 'Reset original view', 'home', 'home'), ('Back', 'Back to previous …"
      ]
     },
     "metadata": {},
     "output_type": "display_data"
    },
    {
     "data": {
      "text/plain": [
       "<matplotlib.colorbar.Colorbar at 0x7f140d1eaca0>"
      ]
     },
     "execution_count": 15,
     "metadata": {},
     "output_type": "execute_result"
    }
   ],
   "source": [
    "# generationdes data : une belle boite d'oeuf vu du dessus\n",
    "x = np.cos(np.linspace(0, 4*np.pi, 1000))\n",
    "y = np.sin(np.linspace(0, 4*np.pi, 1000))\n",
    "X,Y = np.meshgrid(x,y)\n",
    "data = Y*X\n",
    "\n",
    "# attention interpolation\n",
    "fig, ax = plt.subplots()\n",
    "im = ax.imshow(data, cmap='hot', interpolation='nearest')\n",
    "im.set_clim(-2, 2)\n",
    "fig.colorbar(im, ax=ax)"
   ]
  },
  {
   "cell_type": "markdown",
   "metadata": {},
   "source": [
    "# fill_between"
   ]
  },
  {
   "cell_type": "code",
   "execution_count": 16,
   "metadata": {},
   "outputs": [
    {
     "data": {
      "application/vnd.jupyter.widget-view+json": {
       "model_id": "f3fa7e518a664922b9341e6e54d11212",
       "version_major": 2,
       "version_minor": 0
      },
      "text/plain": [
       "Canvas(toolbar=Toolbar(toolitems=[('Home', 'Reset original view', 'home', 'home'), ('Back', 'Back to previous …"
      ]
     },
     "metadata": {},
     "output_type": "display_data"
    },
    {
     "data": {
      "text/plain": [
       "[<matplotlib.lines.Line2D at 0x7f140b2a2820>]"
      ]
     },
     "execution_count": 16,
     "metadata": {},
     "output_type": "execute_result"
    }
   ],
   "source": [
    "fig, ax = plt.subplots()\n",
    "x = np.arange(0,30, .1)\n",
    "y1 = x**3\n",
    "y2 = x**3.5\n",
    "m = (y1 + y2)/2\n",
    "\n",
    "ax.fill_between(x, y1, y2, color='y', alpha=.4)\n",
    "ax.plot(x, m, color='k')\n"
   ]
  },
  {
   "cell_type": "markdown",
   "metadata": {},
   "source": [
    "# excerice 3\n",
    "\n",
    "  * Générer 9 signaux sinusoidaux de frequence 5Hz entre 0 et 3.s.\n",
    "  * Chaque signal a niveau de bruit de plus en plus grand (faire un peu comme on veut)\n",
    "  * Sur la figure 1 : Afficher chaque signal dans un subplot sur une grille\n",
    "  * Sur la figure 2 : afficher la moyenne et la std."
   ]
  },
  {
   "cell_type": "markdown",
   "metadata": {},
   "source": [
    "# Solution 3"
   ]
  },
  {
   "cell_type": "code",
   "execution_count": null,
   "metadata": {},
   "outputs": [],
   "source": [
    "\n"
   ]
  },
  {
   "cell_type": "code",
   "execution_count": null,
   "metadata": {},
   "outputs": [],
   "source": []
  },
  {
   "cell_type": "code",
   "execution_count": null,
   "metadata": {},
   "outputs": [],
   "source": []
  },
  {
   "cell_type": "code",
   "execution_count": null,
   "metadata": {},
   "outputs": [],
   "source": []
  }
 ],
 "metadata": {
  "kernelspec": {
   "display_name": "Python 3",
   "language": "python",
   "name": "python3"
  },
  "language_info": {
   "codemirror_mode": {
    "name": "ipython",
    "version": 3
   },
   "file_extension": ".py",
   "mimetype": "text/x-python",
   "name": "python",
   "nbconvert_exporter": "python",
   "pygments_lexer": "ipython3",
   "version": "3.8.5"
  }
 },
 "nbformat": 4,
 "nbformat_minor": 1
}
