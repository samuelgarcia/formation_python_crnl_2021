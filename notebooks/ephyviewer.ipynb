{
 "cells": [
  {
   "cell_type": "markdown",
   "metadata": {},
   "source": [
    "# ephyviewer\n",
    "\n",
    "  * Outils pour se créer ses propores visualisations de signaux/events/video/spikes.\n",
    "  * Basé en sur Qt5 et pyqtgraph\n",
    "  * facile à utilser\n",
    "  * fait par un mec sympas\n",
    "  * marche aussi en standalone\n",
    " \n",
    " \n",
    "![](img/mixed_viewer_example.png)\n"
   ]
  },
  {
   "cell_type": "markdown",
   "metadata": {},
   "source": [
    "# En standalone : lancer *ephyviewer* dans une console\n",
    "\n",
    "```\n",
    "ephyviewer\n",
    "ephyviewer FileSpec2.3001.ns5\n",
    "ephyviewer FileSpec2.3001.ns5 -f Blackrock\n",
    "```\n"
   ]
  },
  {
   "cell_type": "markdown",
   "metadata": {},
   "source": [
    "# En script custumisé\n",
    "\n"
   ]
  },
  {
   "cell_type": "code",
   "execution_count": 1,
   "metadata": {},
   "outputs": [
    {
     "data": {
      "text/plain": [
       "0"
      ]
     },
     "execution_count": 1,
     "metadata": {},
     "output_type": "execute_result"
    }
   ],
   "source": [
    "from ephyviewer import mkQApp, MainViewer, TraceViewer\n",
    "import numpy as np\n",
    "\n",
    "app = mkQApp()\n",
    "\n",
    "#fake sigs\n",
    "sigs = np.random.rand(100000,16)\n",
    "sample_rate = 1000.\n",
    "t_start = 0.\n",
    "\n",
    "#Create the main window that can contain several viewers\n",
    "win = MainViewer()\n",
    "view1 = TraceViewer.from_numpy(sigs, sample_rate, t_start, 'Signals')\n",
    "win.add_view(view1)\n",
    "\n",
    "#Parameters can be set in script\n",
    "view1.params['scale_mode'] = 'same_for_all'\n",
    "view1.params['display_labels'] = True\n",
    "#And also parameters for each channel\n",
    "view1.by_channel_params['ch0', 'visible'] = False\n",
    "view1.by_channel_params['ch15', 'color'] = '#FF00AA'\n",
    "\n",
    "#Run\n",
    "win.show()\n",
    "app.exec_()"
   ]
  },
  {
   "cell_type": "code",
   "execution_count": null,
   "metadata": {
    "collapsed": true
   },
   "outputs": [],
   "source": []
  }
 ],
 "metadata": {
  "kernelspec": {
   "display_name": "Python 3",
   "language": "python",
   "name": "python3"
  },
  "language_info": {
   "codemirror_mode": {
    "name": "ipython",
    "version": 3
   },
   "file_extension": ".py",
   "mimetype": "text/x-python",
   "name": "python",
   "nbconvert_exporter": "python",
   "pygments_lexer": "ipython3",
   "version": "3.8.10"
  }
 },
 "nbformat": 4,
 "nbformat_minor": 2
}
