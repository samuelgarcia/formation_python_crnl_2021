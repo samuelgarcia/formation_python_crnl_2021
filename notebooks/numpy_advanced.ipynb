{
 "cells": [
  {
   "cell_type": "markdown",
   "metadata": {},
   "source": [
    "---\n",
    "# Manipulation de ndarray dans numpy\n",
    "---"
   ]
  },
  {
   "cell_type": "markdown",
   "metadata": {},
   "source": [
    "# Concatenation de tableau\n",
    "\n",
    "Tres utile : pour mettre ensemble des datas de sources différentes\n",
    "\n",
    "syntaxe :\n",
    "\n",
    "**concatenate([a,b,c],axis)**\n",
    "\n",
    "**[a,b,c]** est une liste (ou autres iterables) pouvant contenir autant d'élement à concatener que l'on veut\n",
    "\n",
    "**axis** est la dimension selon laquelle on veut concatener:\n",
    "\n",
    "par exemple:\n"
   ]
  },
  {
   "cell_type": "code",
   "execution_count": 1,
   "metadata": {},
   "outputs": [
    {
     "name": "stdout",
     "output_type": "stream",
     "text": [
      "[0 1 2 0 1 2 3 4]\n"
     ]
    }
   ],
   "source": [
    "import numpy as np\n",
    "\n",
    "a = np.arange(3)\n",
    "b = np.arange(5)\n",
    "\n",
    "c = np.concatenate((a,b)) ### concatene par défault selon la premiere dimension\n",
    "\n",
    "print(c)"
   ]
  },
  {
   "cell_type": "code",
   "execution_count": 2,
   "metadata": {},
   "outputs": [
    {
     "name": "stdout",
     "output_type": "stream",
     "text": [
      "(6, 4, 5)\n"
     ]
    }
   ],
   "source": [
    "### en multi dimension, on precise axis\n",
    "\n",
    "a = np.ones((3,4,5))\n",
    "b = np.ones((3,4,5))\n",
    "\n",
    "c = np.concatenate((a,b),axis = 0) ### concatene selon la premiere dimension\n",
    "\n",
    "print(c.shape)"
   ]
  },
  {
   "cell_type": "markdown",
   "metadata": {},
   "source": [
    "![Image](./img/np_concat_0.png)"
   ]
  },
  {
   "cell_type": "code",
   "execution_count": 3,
   "metadata": {},
   "outputs": [
    {
     "name": "stdout",
     "output_type": "stream",
     "text": [
      "(3, 8, 5)\n"
     ]
    }
   ],
   "source": [
    "c = np.concatenate((a,b),axis = 1) ### concatene selon la deuxieme dimension\n",
    "\n",
    "print(c.shape)"
   ]
  },
  {
   "cell_type": "markdown",
   "metadata": {},
   "source": [
    "![Image](./img/np_concat_1.png)"
   ]
  },
  {
   "cell_type": "code",
   "execution_count": 4,
   "metadata": {},
   "outputs": [
    {
     "ename": "ValueError",
     "evalue": "all the input array dimensions for the concatenation axis must match exactly, but along dimension 2, the array at index 0 has size 5 and the array at index 1 has size 3",
     "output_type": "error",
     "traceback": [
      "\u001b[0;31m---------------------------------------------------------------------------\u001b[0m",
      "\u001b[0;31mValueError\u001b[0m                                Traceback (most recent call last)",
      "\u001b[0;32m<ipython-input-4-37e96d8f5940>\u001b[0m in \u001b[0;36m<module>\u001b[0;34m\u001b[0m\n\u001b[1;32m      4\u001b[0m \u001b[0mb\u001b[0m \u001b[0;34m=\u001b[0m \u001b[0mnp\u001b[0m\u001b[0;34m.\u001b[0m\u001b[0mones\u001b[0m\u001b[0;34m(\u001b[0m\u001b[0;34m(\u001b[0m\u001b[0;36m3\u001b[0m\u001b[0;34m,\u001b[0m\u001b[0;36m5\u001b[0m\u001b[0;34m,\u001b[0m\u001b[0;36m3\u001b[0m\u001b[0;34m)\u001b[0m\u001b[0;34m)\u001b[0m\u001b[0;34m\u001b[0m\u001b[0;34m\u001b[0m\u001b[0m\n\u001b[1;32m      5\u001b[0m \u001b[0;34m\u001b[0m\u001b[0m\n\u001b[0;32m----> 6\u001b[0;31m \u001b[0mc\u001b[0m \u001b[0;34m=\u001b[0m \u001b[0mnp\u001b[0m\u001b[0;34m.\u001b[0m\u001b[0mconcatenate\u001b[0m\u001b[0;34m(\u001b[0m\u001b[0;34m(\u001b[0m\u001b[0ma\u001b[0m\u001b[0;34m,\u001b[0m\u001b[0mb\u001b[0m\u001b[0;34m)\u001b[0m\u001b[0;34m,\u001b[0m\u001b[0maxis\u001b[0m \u001b[0;34m=\u001b[0m \u001b[0;36m1\u001b[0m\u001b[0;34m)\u001b[0m\u001b[0;34m\u001b[0m\u001b[0;34m\u001b[0m\u001b[0m\n\u001b[0m\u001b[1;32m      7\u001b[0m \u001b[0;34m\u001b[0m\u001b[0m\n\u001b[1;32m      8\u001b[0m \u001b[0mprint\u001b[0m\u001b[0;34m(\u001b[0m\u001b[0mc\u001b[0m\u001b[0;34m.\u001b[0m\u001b[0mshape\u001b[0m\u001b[0;34m)\u001b[0m\u001b[0;34m\u001b[0m\u001b[0;34m\u001b[0m\u001b[0m\n",
      "\u001b[0;32m<__array_function__ internals>\u001b[0m in \u001b[0;36mconcatenate\u001b[0;34m(*args, **kwargs)\u001b[0m\n",
      "\u001b[0;31mValueError\u001b[0m: all the input array dimensions for the concatenation axis must match exactly, but along dimension 2, the array at index 0 has size 5 and the array at index 1 has size 3"
     ]
    }
   ],
   "source": [
    "### Si les dimensions (autre que celle ou l'on concatène) ne correspondent pas : ça ne marche pas !\n",
    "\n",
    "a = np.ones((3,4,5))\n",
    "b = np.ones((3,5,3))\n",
    "\n",
    "c = np.concatenate((a,b),axis = 1) \n",
    "\n",
    "print(c.shape)\n"
   ]
  },
  {
   "cell_type": "markdown",
   "metadata": {},
   "source": [
    "![Image](./img/np_concat_2.png)"
   ]
  },
  {
   "cell_type": "markdown",
   "metadata": {},
   "source": [
    "###  -> Toutes les dimensions a part celle de l'axis doivent correspondre"
   ]
  },
  {
   "cell_type": "markdown",
   "metadata": {},
   "source": [
    "# Newaxis\n",
    "\n",
    "newaxis permet d'ajouter une dimension à un tableau existant. \n",
    "\n",
    "Par exemple, un vecteur n'a qu'une seule dimension:"
   ]
  },
  {
   "cell_type": "code",
   "execution_count": 5,
   "metadata": {},
   "outputs": [
    {
     "name": "stdout",
     "output_type": "stream",
     "text": [
      "[0 1 2 3 4 5 6 7 8 9]\n",
      "(10,)\n"
     ]
    }
   ],
   "source": [
    "a = np.array(np.arange(10),dtype = 'int64')\n",
    "\n",
    "print(a)\n",
    "print(a.shape)"
   ]
  },
  {
   "cell_type": "markdown",
   "metadata": {},
   "source": [
    "Pourtant, si on veut concatener 2 vecteurs pour un faire une matrice a deux colonnes, il faut passer d'un vecteur  (à une seule dimension), à une matrice à une seule colonne:"
   ]
  },
  {
   "cell_type": "code",
   "execution_count": 6,
   "metadata": {},
   "outputs": [
    {
     "name": "stdout",
     "output_type": "stream",
     "text": [
      "[10 11 12 13 14 15 16 17 18 19]\n",
      "(10,)\n",
      "[[ 0 10]\n",
      " [ 1 11]\n",
      " [ 2 12]\n",
      " [ 3 13]\n",
      " [ 4 14]\n",
      " [ 5 15]\n",
      " [ 6 16]\n",
      " [ 7 17]\n",
      " [ 8 18]\n",
      " [ 9 19]]\n",
      "(10, 2)\n"
     ]
    },
    {
     "ename": "AxisError",
     "evalue": "axis 1 is out of bounds for array of dimension 1",
     "output_type": "error",
     "traceback": [
      "\u001b[0;31m---------------------------------------------------------------------------\u001b[0m",
      "\u001b[0;31mAxisError\u001b[0m                                 Traceback (most recent call last)",
      "\u001b[0;32m<ipython-input-6-91010be6dc98>\u001b[0m in \u001b[0;36m<module>\u001b[0;34m\u001b[0m\n\u001b[1;32m      7\u001b[0m \u001b[0mprint\u001b[0m\u001b[0;34m(\u001b[0m\u001b[0mc_1\u001b[0m\u001b[0;34m.\u001b[0m\u001b[0mshape\u001b[0m\u001b[0;34m)\u001b[0m\u001b[0;34m\u001b[0m\u001b[0;34m\u001b[0m\u001b[0m\n\u001b[1;32m      8\u001b[0m \u001b[0;34m\u001b[0m\u001b[0m\n\u001b[0;32m----> 9\u001b[0;31m \u001b[0mc_1\u001b[0m \u001b[0;34m=\u001b[0m \u001b[0mnp\u001b[0m\u001b[0;34m.\u001b[0m\u001b[0mconcatenate\u001b[0m\u001b[0;34m(\u001b[0m\u001b[0;34m(\u001b[0m\u001b[0ma\u001b[0m\u001b[0;34m,\u001b[0m\u001b[0mb\u001b[0m\u001b[0;34m)\u001b[0m\u001b[0;34m,\u001b[0m\u001b[0maxis\u001b[0m \u001b[0;34m=\u001b[0m \u001b[0;36m1\u001b[0m\u001b[0;34m)\u001b[0m\u001b[0;34m\u001b[0m\u001b[0;34m\u001b[0m\u001b[0m\n\u001b[0m\u001b[1;32m     10\u001b[0m \u001b[0mprint\u001b[0m\u001b[0;34m(\u001b[0m\u001b[0mc_1\u001b[0m\u001b[0;34m)\u001b[0m\u001b[0;34m\u001b[0m\u001b[0;34m\u001b[0m\u001b[0m\n\u001b[1;32m     11\u001b[0m \u001b[0;34m\u001b[0m\u001b[0m\n",
      "\u001b[0;32m<__array_function__ internals>\u001b[0m in \u001b[0;36mconcatenate\u001b[0;34m(*args, **kwargs)\u001b[0m\n",
      "\u001b[0;31mAxisError\u001b[0m: axis 1 is out of bounds for array of dimension 1"
     ]
    }
   ],
   "source": [
    "b = np.array(np.arange(10,20),dtype = 'int64')\n",
    "print(b)\n",
    "print(b.shape)\n",
    "\n",
    "c_1 = np.stack((a,b),axis = 1)\n",
    "print(c_1)\n",
    "print(c_1.shape)\n",
    "\n",
    "c_1 = np.concatenate((a,b),axis = 1)\n",
    "print(c_1)\n",
    "\n",
    "\n",
    "### ca marche pour concatener les deux vecteurs dans le sens de la longueur  \n",
    "#c_0 = np.concatenate((a,b),axis = 0)\n",
    "#print(c_0)"
   ]
  },
  {
   "cell_type": "markdown",
   "metadata": {},
   "source": [
    "Pour cela on va utiliser le mot-clé 'newaxis', qui nous permet d'ajouter une nouvelle dimension au tableau"
   ]
  },
  {
   "cell_type": "code",
   "execution_count": 7,
   "metadata": {},
   "outputs": [
    {
     "name": "stdout",
     "output_type": "stream",
     "text": [
      "(10, 1)\n"
     ]
    }
   ],
   "source": [
    "a_bis = a[:,np.newaxis] \n",
    "\n",
    "print(a_bis.shape)"
   ]
  },
  {
   "cell_type": "markdown",
   "metadata": {},
   "source": [
    "\n",
    "equivalent a \n",
    "* a_bis = a.reshape(a.shape[0],1) \n",
    "* a_bis = a.reshape(-1,1)\n",
    "* a_bis = a[:,None]\n"
   ]
  },
  {
   "cell_type": "code",
   "execution_count": 8,
   "metadata": {},
   "outputs": [
    {
     "name": "stdout",
     "output_type": "stream",
     "text": [
      "(10, 1)\n"
     ]
    }
   ],
   "source": [
    "b_bis = b[:,np.newaxis]\n",
    "print(b_bis.shape)\n"
   ]
  },
  {
   "cell_type": "code",
   "execution_count": 9,
   "metadata": {},
   "outputs": [
    {
     "name": "stdout",
     "output_type": "stream",
     "text": [
      "[[ 0 10]\n",
      " [ 1 11]\n",
      " [ 2 12]\n",
      " [ 3 13]\n",
      " [ 4 14]\n",
      " [ 5 15]\n",
      " [ 6 16]\n",
      " [ 7 17]\n",
      " [ 8 18]\n",
      " [ 9 19]]\n",
      "(10, 2)\n"
     ]
    }
   ],
   "source": [
    "m= np.concatenate((a_bis,b_bis),axis = 1)\n",
    "# l'axis = 1 existe maintenant\n",
    "print(m)\n",
    "print(m.shape)\n"
   ]
  },
  {
   "cell_type": "markdown",
   "metadata": {},
   "source": [
    "# Operations de réduction: mean/std, max,  sum etc.\n",
    "\n",
    "Avec le meme principe de 'axis', il est tres facile de reduire un tableau:\n"
   ]
  },
  {
   "cell_type": "markdown",
   "metadata": {},
   "source": [
    " <img src=\"img/axis.png\">"
   ]
  },
  {
   "cell_type": "markdown",
   "metadata": {},
   "source": [
    "## moyenne \n",
    "\n",
    "fonction numpy.mean\n",
    "\n",
    "#### moyenne des colonnes"
   ]
  },
  {
   "cell_type": "code",
   "execution_count": 10,
   "metadata": {},
   "outputs": [
    {
     "name": "stdout",
     "output_type": "stream",
     "text": [
      "[[ 4  4 17 13  2  9  3  9 16 10]\n",
      " [13  7 14  8 10  6 11 14 13  9]]\n",
      "[ 8.5  5.5 15.5 10.5  6.   7.5  7.  11.5 14.5  9.5]\n"
     ]
    }
   ],
   "source": [
    "m = np.random.randint(20, size = 20).reshape(2,10)\n",
    "\n",
    "print(m)\n",
    "\n",
    "##Petit truc pour connaitre l'axis: c'est la dimension qui disparait\n",
    "\n",
    "mean_m = np.mean(m,axis = 0) \n",
    "print(mean_m) ### ici la dimension colonne (2) disparait (on ne garde que les lignes)\n"
   ]
  },
  {
   "cell_type": "markdown",
   "metadata": {},
   "source": [
    "#### moyenne des lignes"
   ]
  },
  {
   "cell_type": "code",
   "execution_count": 11,
   "metadata": {},
   "outputs": [
    {
     "name": "stdout",
     "output_type": "stream",
     "text": [
      "[[ 4  4 17 13  2  9  3  9 16 10]\n",
      " [13  7 14  8 10  6 11 14 13  9]]\n",
      "[ 8.7 10.5]\n"
     ]
    }
   ],
   "source": [
    "mean_m = np.mean(m,axis = 1)\n",
    "print(m)\n",
    "print(mean_m) ## ici la dimension des lignes (10) disparait"
   ]
  },
  {
   "cell_type": "markdown",
   "metadata": {},
   "source": [
    "#### moyenne du tableau\n",
    "\n",
    "axis = None"
   ]
  },
  {
   "cell_type": "code",
   "execution_count": 12,
   "metadata": {},
   "outputs": [
    {
     "name": "stdout",
     "output_type": "stream",
     "text": [
      "[[ 4  4 17 13  2  9  3  9 16 10]\n",
      " [13  7 14  8 10  6 11 14 13  9]]\n",
      "9.6\n"
     ]
    }
   ],
   "source": [
    "mean_c = np.mean(m,axis = None)\n",
    "print(m)\n",
    "print(mean_c)"
   ]
  },
  {
   "cell_type": "markdown",
   "metadata": {},
   "source": [
    "#### écart-type\n",
    "\n",
    "fonction numpy.std"
   ]
  },
  {
   "cell_type": "code",
   "execution_count": 13,
   "metadata": {},
   "outputs": [
    {
     "name": "stdout",
     "output_type": "stream",
     "text": [
      "[5.13906606 2.80178515]\n"
     ]
    }
   ],
   "source": [
    "### ecart type des lignes\n",
    "std_c_1 = np.std(m,axis = 1)\n",
    "\n",
    "print(std_c_1)\n"
   ]
  },
  {
   "cell_type": "code",
   "execution_count": 14,
   "metadata": {},
   "outputs": [
    {
     "name": "stdout",
     "output_type": "stream",
     "text": [
      "[17 14]\n"
     ]
    }
   ],
   "source": [
    "### max des lignes:\n",
    "max_c_0 = np.max(m,axis = 1)\n",
    "\n",
    "print(max_c_0)"
   ]
  },
  {
   "cell_type": "markdown",
   "metadata": {},
   "source": [
    "# Exercice 1: potentiel evoqué moyen\n",
    "    \n",
    "- Genérer un signal de 20 signaux (= électrodes) de 10000 points temporels (Gaussien) chacun\n",
    "    \n",
    "- Couper ce signal (slice) autour de 10 trigers aleatoires :\n",
    "    \n",
    " trigs = np.array([100,500,2000,2500,3500,4000,6000,7500,8600,9000])\n",
    " \n",
    "en segments de -5 points à +10 points autour de chaque valeur de trig.\n",
    "(ces 'trigs' correspondent par exemple aux essais dans une condition)\n",
    "    \n",
    "- Concatener les données\n",
    "    \n",
    "- Calculer la moyenne et la std des 10 trials\n",
    "    "
   ]
  },
  {
   "cell_type": "markdown",
   "metadata": {},
   "source": [
    "# Solution 1 avec slice"
   ]
  },
  {
   "cell_type": "code",
   "execution_count": null,
   "metadata": {},
   "outputs": [],
   "source": []
  },
  {
   "cell_type": "markdown",
   "metadata": {},
   "source": [
    "# Solution 2 avec concatenate"
   ]
  },
  {
   "cell_type": "code",
   "execution_count": null,
   "metadata": {},
   "outputs": [],
   "source": []
  },
  {
   "cell_type": "markdown",
   "metadata": {},
   "source": [
    "# Operations de tri\n",
    "\n",
    "## tri des elements\n",
    "\n",
    "!!! Par defaut le tri s'effectue selon la DERNIERE dimension (axis = -1)\n"
   ]
  },
  {
   "cell_type": "code",
   "execution_count": 18,
   "metadata": {},
   "outputs": [
    {
     "name": "stdout",
     "output_type": "stream",
     "text": [
      "c :  [120 191 138 187 184 176 187 149 144 111]\n",
      "sorted_c :  [111 120 138 144 149 176 184 187 187 191]\n"
     ]
    }
   ],
   "source": [
    "#tri sur le vecteur\n",
    "c = np.random.randint(low = 100, high = 200, size = 10)\n",
    "print('c : ', c)\n",
    "\n",
    "sorted_c = np.sort(c)\n",
    "print('sorted_c : ', sorted_c)"
   ]
  },
  {
   "cell_type": "code",
   "execution_count": 19,
   "metadata": {},
   "outputs": [
    {
     "name": "stdout",
     "output_type": "stream",
     "text": [
      "[[123 162 150 170 189]\n",
      " [179 162 145 172 194]\n",
      " [109 164 127 174 188]]\n"
     ]
    }
   ],
   "source": [
    "### tri sur tout le tableau\n",
    "\n",
    "c = np.random.randint(low = 100, high = 200, size = 15).reshape(3,5)\n",
    "print(c)"
   ]
  },
  {
   "cell_type": "code",
   "execution_count": 20,
   "metadata": {},
   "outputs": [
    {
     "name": "stdout",
     "output_type": "stream",
     "text": [
      "[[109 162 127 170 188]\n",
      " [123 162 145 172 189]\n",
      " [179 164 150 174 194]]\n"
     ]
    }
   ],
   "source": [
    "sorted_c_0 = np.sort(c, axis = 0)\n",
    "print(sorted_c_0)"
   ]
  },
  {
   "cell_type": "code",
   "execution_count": 21,
   "metadata": {},
   "outputs": [
    {
     "name": "stdout",
     "output_type": "stream",
     "text": [
      "[[123 150 162 170 189]\n",
      " [145 162 172 179 194]\n",
      " [109 127 164 174 188]]\n"
     ]
    }
   ],
   "source": [
    "sorted_c_1 = np.sort(c, axis = 1)\n",
    "print(sorted_c_1)"
   ]
  },
  {
   "cell_type": "markdown",
   "metadata": {},
   "source": [
    "### ordre des elements"
   ]
  },
  {
   "cell_type": "code",
   "execution_count": 23,
   "metadata": {},
   "outputs": [
    {
     "name": "stdout",
     "output_type": "stream",
     "text": [
      "[12 22  9  4]\n",
      "['a' 'b' 'c' 'd']\n",
      "\n",
      "[3 2 0 1]\n",
      "['d' 'c' 'a' 'b']\n"
     ]
    }
   ],
   "source": [
    "#autre ex: argsort sur une dimension\n",
    "#un vecteur trie un autre vecteur\n",
    "\n",
    "\n",
    "a = np.array([12,22,9,4])\n",
    "b = np.array(['a','b','c','d'])\n",
    "print(a)\n",
    "print(b)\n",
    "print()\n",
    "\n",
    "order = np.argsort(a)\n",
    "print(order)\n",
    "print(b[order])\n"
   ]
  },
  {
   "cell_type": "markdown",
   "metadata": {},
   "source": [
    "# Exercice 2: max et sort signaux\n",
    "\n",
    " * A partir des données de l'exo 1 :\n",
    " \n",
    "signal de 20 cannaux de 10000 points temporels Gaussiens    \n",
    "segmentés autour de 10 trigs aleatoires entre -5 et +10 points               \n",
    "concaténés en un tableau (shape = 20*15*10)\n",
    "moyennés à travers les essais (shape = 20*15)\n",
    "\n",
    "-> calculer le max des moyennes par cannal\n",
    "        \n",
    "-> ordonner les données en fonction de ce max\n",
    "    \n"
   ]
  },
  {
   "cell_type": "markdown",
   "metadata": {},
   "source": [
    "# Solution 2"
   ]
  },
  {
   "cell_type": "code",
   "execution_count": null,
   "metadata": {},
   "outputs": [],
   "source": []
  },
  {
   "cell_type": "markdown",
   "metadata": {},
   "source": [
    "# Matrix vs. ndarray\n",
    "\n",
    "Dans numpy, contrairement à Matlab, les operations par defaut se font sur les arrays, et pas sur les matrices.\n",
    "\n",
    "Il existe un type specialisé pour les matrices, qui sont des tableaux à deux dimensions, et qui disposent d'operations propres aux matrices (inversion, produit, etc.)\n",
    "\n",
    "## Produit vs. produit matriciel\n",
    "\n",
    "Par default pour les ndarray, le produit est le produit élement par élement:"
   ]
  },
  {
   "cell_type": "code",
   "execution_count": 25,
   "metadata": {},
   "outputs": [
    {
     "name": "stdout",
     "output_type": "stream",
     "text": [
      "[[3. 3. 3. 3.]\n",
      " [3. 3. 3. 3.]\n",
      " [3. 3. 3. 3.]\n",
      " [3. 3. 3. 3.]]\n",
      "[[2. 2. 2. 2.]\n",
      " [2. 2. 2. 2.]\n",
      " [2. 2. 2. 2.]\n",
      " [2. 2. 2. 2.]]\n"
     ]
    }
   ],
   "source": [
    "import numpy as np\n",
    "\n",
    "a = np.ones(shape = (4,4))*3\n",
    "b = np.ones(shape = (4,4))*2\n",
    "\n",
    "print(a)\n",
    "print(b)"
   ]
  },
  {
   "cell_type": "code",
   "execution_count": 26,
   "metadata": {},
   "outputs": [
    {
     "name": "stdout",
     "output_type": "stream",
     "text": [
      "[[6. 6. 6. 6.]\n",
      " [6. 6. 6. 6.]\n",
      " [6. 6. 6. 6.]\n",
      " [6. 6. 6. 6.]]\n"
     ]
    }
   ],
   "source": [
    "### produit de chaque element\n",
    "\n",
    "c = a*b \n",
    "print(c)\n",
    "\n"
   ]
  },
  {
   "cell_type": "code",
   "execution_count": 4,
   "metadata": {},
   "outputs": [
    {
     "name": "stdout",
     "output_type": "stream",
     "text": [
      "<class 'numpy.matrixlib.defmatrix.matrix'>\n"
     ]
    }
   ],
   "source": [
    "### produit matriciel (produit scalaire de chaque ligne de a avec chaque colonne de b)\n",
    "mat_a = np.matrix(a)\n",
    "mat_b = np.matrix(b)\n",
    "\n",
    "print(type(mat_a))\n"
   ]
  },
  {
   "cell_type": "code",
   "execution_count": 5,
   "metadata": {},
   "outputs": [
    {
     "name": "stdout",
     "output_type": "stream",
     "text": [
      "[[24. 24. 24. 24.]\n",
      " [24. 24. 24. 24.]\n",
      " [24. 24. 24. 24.]\n",
      " [24. 24. 24. 24.]]\n",
      "<class 'numpy.matrixlib.defmatrix.matrix'>\n"
     ]
    }
   ],
   "source": [
    "\n",
    "mat_c = mat_a*mat_b\n",
    "print(mat_c)\n",
    "print(type(mat_c))\n"
   ]
  },
  {
   "cell_type": "markdown",
   "metadata": {},
   "source": [
    "Il est cependant possible de travailler directement en operation matricielle SANS passer par l'objet np.matrix"
   ]
  },
  {
   "cell_type": "code",
   "execution_count": 6,
   "metadata": {},
   "outputs": [
    {
     "name": "stdout",
     "output_type": "stream",
     "text": [
      "[[24. 24. 24. 24.]\n",
      " [24. 24. 24. 24.]\n",
      " [24. 24. 24. 24.]\n",
      " [24. 24. 24. 24.]]\n",
      "<class 'numpy.ndarray'>\n"
     ]
    }
   ],
   "source": [
    "c_dot = np.dot(a,b)\n",
    "print(c_dot)\n",
    "print(type(c_dot))\n"
   ]
  },
  {
   "cell_type": "code",
   "execution_count": 33,
   "metadata": {},
   "outputs": [
    {
     "name": "stdout",
     "output_type": "stream",
     "text": [
      "[[24. 24. 24. 24.]\n",
      " [24. 24. 24. 24.]\n",
      " [24. 24. 24. 24.]\n",
      " [24. 24. 24. 24.]]\n"
     ]
    }
   ],
   "source": [
    "### on peut aussi utiliser la methode de l'objet ndarry dot()\n",
    "\n",
    "print(a.dot(b))"
   ]
  },
  {
   "cell_type": "code",
   "execution_count": 27,
   "metadata": {},
   "outputs": [
    {
     "name": "stdout",
     "output_type": "stream",
     "text": [
      "[[24. 24. 24. 24.]\n",
      " [24. 24. 24. 24.]\n",
      " [24. 24. 24. 24.]\n",
      " [24. 24. 24. 24.]]\n"
     ]
    }
   ],
   "source": [
    "\n",
    "#### Depuis python 3 (.5? ou ou.6), operator @ correspond au produit matriciel \n",
    "print (a@b)"
   ]
  },
  {
   "cell_type": "markdown",
   "metadata": {},
   "source": [
    "### inverse vs. inversion\n"
   ]
  },
  {
   "cell_type": "code",
   "execution_count": 28,
   "metadata": {},
   "outputs": [
    {
     "name": "stdout",
     "output_type": "stream",
     "text": [
      "[[5. 1. 4. 5.]\n",
      " [2. 3. 2. 5.]\n",
      " [5. 3. 4. 3.]\n",
      " [2. 5. 2. 4.]]\n"
     ]
    }
   ],
   "source": [
    "mat = np.random.randint(1, 5+1, size=(4,4)).astype(\"float64\")\n",
    "\n",
    "print(mat)\n"
   ]
  },
  {
   "cell_type": "code",
   "execution_count": 29,
   "metadata": {},
   "outputs": [
    {
     "name": "stdout",
     "output_type": "stream",
     "text": [
      "[[0.2        1.         0.25       0.2       ]\n",
      " [0.5        0.33333333 0.5        0.2       ]\n",
      " [0.2        0.33333333 0.25       0.33333333]\n",
      " [0.5        0.2        0.5        0.25      ]]\n"
     ]
    }
   ],
   "source": [
    "## on obtient l'inverse de chaque element\n",
    "un_sur_mat = 1/mat\n",
    "\n",
    "print(un_sur_mat)\n",
    "\n",
    "### !!! en matlab c'est l'inverse (/.) a la place de (/)"
   ]
  },
  {
   "cell_type": "code",
   "execution_count": 30,
   "metadata": {},
   "outputs": [
    {
     "name": "stdout",
     "output_type": "stream",
     "text": [
      "[[  8.5  -12.    -7.5   10.  ]\n",
      " [  0.5   -1.    -0.5    1.  ]\n",
      " [-11.75  16.5   10.75 -14.  ]\n",
      " [  1.    -1.    -1.     1.  ]]\n"
     ]
    }
   ],
   "source": [
    "## on obtient la matrice inverse\n",
    "inv_mat = np.linalg.inv(mat)\n",
    "\n",
    "print(inv_mat)"
   ]
  },
  {
   "cell_type": "code",
   "execution_count": null,
   "metadata": {},
   "outputs": [],
   "source": []
  }
 ],
 "metadata": {
  "kernelspec": {
   "display_name": "Python 3",
   "language": "python",
   "name": "python3"
  },
  "language_info": {
   "codemirror_mode": {
    "name": "ipython",
    "version": 3
   },
   "file_extension": ".py",
   "mimetype": "text/x-python",
   "name": "python",
   "nbconvert_exporter": "python",
   "pygments_lexer": "ipython3",
   "version": "3.8.10"
  }
 },
 "nbformat": 4,
 "nbformat_minor": 2
}
