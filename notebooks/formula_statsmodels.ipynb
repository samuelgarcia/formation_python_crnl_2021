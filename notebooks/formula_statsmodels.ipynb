{
 "cells": [
  {
   "cell_type": "markdown",
   "metadata": {
    "collapsed": true
   },
   "source": [
    "## Formule comme à la sauce R"
   ]
  },
  {
   "cell_type": "code",
   "execution_count": 1,
   "metadata": {},
   "outputs": [
    {
     "data": {
      "text/html": [
       "<div>\n",
       "<style scoped>\n",
       "    .dataframe tbody tr th:only-of-type {\n",
       "        vertical-align: middle;\n",
       "    }\n",
       "\n",
       "    .dataframe tbody tr th {\n",
       "        vertical-align: top;\n",
       "    }\n",
       "\n",
       "    .dataframe thead th {\n",
       "        text-align: right;\n",
       "    }\n",
       "</style>\n",
       "<table border=\"1\" class=\"dataframe\">\n",
       "  <thead>\n",
       "    <tr style=\"text-align: right;\">\n",
       "      <th></th>\n",
       "      <th>Lottery</th>\n",
       "      <th>Literacy</th>\n",
       "      <th>Wealth</th>\n",
       "      <th>Region</th>\n",
       "    </tr>\n",
       "  </thead>\n",
       "  <tbody>\n",
       "    <tr>\n",
       "      <th>0</th>\n",
       "      <td>41</td>\n",
       "      <td>37</td>\n",
       "      <td>73</td>\n",
       "      <td>E</td>\n",
       "    </tr>\n",
       "    <tr>\n",
       "      <th>1</th>\n",
       "      <td>38</td>\n",
       "      <td>51</td>\n",
       "      <td>22</td>\n",
       "      <td>N</td>\n",
       "    </tr>\n",
       "    <tr>\n",
       "      <th>2</th>\n",
       "      <td>66</td>\n",
       "      <td>13</td>\n",
       "      <td>61</td>\n",
       "      <td>C</td>\n",
       "    </tr>\n",
       "    <tr>\n",
       "      <th>3</th>\n",
       "      <td>80</td>\n",
       "      <td>46</td>\n",
       "      <td>76</td>\n",
       "      <td>E</td>\n",
       "    </tr>\n",
       "    <tr>\n",
       "      <th>4</th>\n",
       "      <td>79</td>\n",
       "      <td>69</td>\n",
       "      <td>83</td>\n",
       "      <td>E</td>\n",
       "    </tr>\n",
       "  </tbody>\n",
       "</table>\n",
       "</div>"
      ],
      "text/plain": [
       "   Lottery  Literacy  Wealth Region\n",
       "0       41        37      73      E\n",
       "1       38        51      22      N\n",
       "2       66        13      61      C\n",
       "3       80        46      76      E\n",
       "4       79        69      83      E"
      ]
     },
     "execution_count": 1,
     "metadata": {},
     "output_type": "execute_result"
    }
   ],
   "source": [
    "import pandas as pd\n",
    "import statsmodels as sm\n",
    "\n",
    "df = pd.read_csv('./data/Guerry.csv')\n",
    "df.head()\n",
    "df = df[['Lottery', 'Literacy', 'Wealth', 'Region']].dropna()\n",
    "df.head()"
   ]
  },
  {
   "cell_type": "code",
   "execution_count": 2,
   "metadata": {},
   "outputs": [
    {
     "name": "stdout",
     "output_type": "stream",
     "text": [
      "                            OLS Regression Results                            \n",
      "==============================================================================\n",
      "Dep. Variable:                Lottery   R-squared:                       0.146\n",
      "Model:                            OLS   Adj. R-squared:                  0.135\n",
      "Method:                 Least Squares   F-statistic:                     14.16\n",
      "Date:                Fri, 23 Jul 2021   Prob (F-statistic):           0.000312\n",
      "Time:                        17:36:33   Log-Likelihood:                -386.13\n",
      "No. Observations:                  85   AIC:                             776.3\n",
      "Df Residuals:                      83   BIC:                             781.2\n",
      "Df Model:                           1                                         \n",
      "Covariance Type:            nonrobust                                         \n",
      "==============================================================================\n",
      "                 coef    std err          t      P>|t|      [0.025      0.975]\n",
      "------------------------------------------------------------------------------\n",
      "Intercept     64.2389      6.163     10.423      0.000      51.981      76.497\n",
      "Literacy      -0.5417      0.144     -3.763      0.000      -0.828      -0.255\n",
      "==============================================================================\n",
      "Omnibus:                        7.455   Durbin-Watson:                   2.010\n",
      "Prob(Omnibus):                  0.024   Jarque-Bera (JB):                2.936\n",
      "Skew:                           0.061   Prob(JB):                        0.230\n",
      "Kurtosis:                       2.098   Cond. No.                         106.\n",
      "==============================================================================\n",
      "\n",
      "Notes:\n",
      "[1] Standard Errors assume that the covariance matrix of the errors is correctly specified.\n"
     ]
    }
   ],
   "source": [
    "import statsmodels.formula.api as smf\n",
    "\n",
    "##avec un ~ pour definir qui en fonction de qui\n",
    "my_formula = \"Lottery ~ Literacy\"\n",
    "\n",
    "\n",
    "### on definit la regression : ols = Ordinary Least Square pour optimiser la regression linaire\n",
    "### (c'est le modele de regression dans R également)\n",
    "mod = smf.ols(formula=my_formula, data=df)\n",
    "\n",
    "### on estime (fit) le model\n",
    "res_ols = mod.fit()\n",
    "print (res_ols.summary())"
   ]
  },
  {
   "cell_type": "code",
   "execution_count": 5,
   "metadata": {},
   "outputs": [
    {
     "name": "stdout",
     "output_type": "stream",
     "text": [
      "                            OLS Regression Results                            \n",
      "==============================================================================\n",
      "Dep. Variable:                Lottery   R-squared:                       0.338\n",
      "Model:                            OLS   Adj. R-squared:                  0.287\n",
      "Method:                 Least Squares   F-statistic:                     6.636\n",
      "Date:                Fri, 23 Jul 2021   Prob (F-statistic):           1.07e-05\n",
      "Time:                        17:36:50   Log-Likelihood:                -375.30\n",
      "No. Observations:                  85   AIC:                             764.6\n",
      "Df Residuals:                      78   BIC:                             781.7\n",
      "Df Model:                           6                                         \n",
      "Covariance Type:            nonrobust                                         \n",
      "===============================================================================\n",
      "                  coef    std err          t      P>|t|      [0.025      0.975]\n",
      "-------------------------------------------------------------------------------\n",
      "Intercept      38.6517      9.456      4.087      0.000      19.826      57.478\n",
      "Region[T.E]   -15.4278      9.727     -1.586      0.117     -34.793       3.938\n",
      "Region[T.N]   -10.0170      9.260     -1.082      0.283     -28.453       8.419\n",
      "Region[T.S]    -4.5483      7.279     -0.625      0.534     -19.039       9.943\n",
      "Region[T.W]   -10.0913      7.196     -1.402      0.165     -24.418       4.235\n",
      "Literacy       -0.1858      0.210     -0.886      0.378      -0.603       0.232\n",
      "Wealth          0.4515      0.103      4.390      0.000       0.247       0.656\n",
      "==============================================================================\n",
      "Omnibus:                        3.049   Durbin-Watson:                   1.785\n",
      "Prob(Omnibus):                  0.218   Jarque-Bera (JB):                2.694\n",
      "Skew:                          -0.340   Prob(JB):                        0.260\n",
      "Kurtosis:                       2.454   Cond. No.                         371.\n",
      "==============================================================================\n",
      "\n",
      "Notes:\n",
      "[1] Standard Errors assume that the covariance matrix of the errors is correctly specified.\n"
     ]
    }
   ],
   "source": [
    "##pour definir un modele avec plusieurs variables, on utilise le '+'\n",
    "my_full_formula = \"Lottery ~ Literacy + Wealth + Region\"\n",
    "\n",
    "full_mod = smf.ols(formula=my_full_formula, data=df)\n",
    "\n",
    "### on estime (fit) le model\n",
    "full_res_ols = full_mod.fit()\n",
    "print (full_res_ols.summary())"
   ]
  },
  {
   "cell_type": "markdown",
   "metadata": {},
   "source": [
    "### ANOVA simple"
   ]
  },
  {
   "cell_type": "code",
   "execution_count": 6,
   "metadata": {},
   "outputs": [
    {
     "name": "stdout",
     "output_type": "stream",
     "text": [
      "                sum_sq    df          F    PR(>F)\n",
      "Region     1499.998582   4.0   0.859236  0.492304\n",
      "Literacy    342.375751   1.0   0.784485  0.378495\n",
      "Wealth     8410.424430   1.0  19.270792  0.000035\n",
      "Residual  34041.834158  78.0        NaN       NaN\n"
     ]
    }
   ],
   "source": [
    "### une fois que cette regression lineaire est calcule, on peut calculer une ANOVA dessus\n",
    "import statsmodels.api as sm\n",
    "\n",
    "table = sm.stats.anova_lm(full_res_ols, typ=2) # Type 2 ANOVA DataFrame\n",
    "print(table)\n",
    "\n"
   ]
  },
  {
   "cell_type": "markdown",
   "metadata": {},
   "source": [
    "Attention, ici df = 'degree of freedom', rien a voir avec le nom du dataframe!"
   ]
  },
  {
   "cell_type": "markdown",
   "metadata": {},
   "source": [
    "### ANOVA avec interactions"
   ]
  },
  {
   "cell_type": "code",
   "execution_count": 7,
   "metadata": {},
   "outputs": [
    {
     "name": "stdout",
     "output_type": "stream",
     "text": [
      "                              sum_sq    df          F    PR(>F)\n",
      "Region                   1497.248916   4.0   0.780638  0.541849\n",
      "Literacy                  195.882654   1.0   0.408518  0.524969\n",
      "Literacy:Region          1275.329149   4.0   0.664933  0.618622\n",
      "Wealth                   8104.500498   1.0  16.902148  0.000113\n",
      "Wealth:Region            1276.034369   4.0   0.665301  0.618369\n",
      "Literacy:Wealth            60.340597   1.0   0.125842  0.723931\n",
      "Literacy:Wealth:Region    937.356225   4.0   0.488720  0.743963\n",
      "Residual                31167.195053  65.0        NaN       NaN\n"
     ]
    }
   ],
   "source": [
    "#### ce modele avec le plus ne tient pas compte des interactions entre variables\n",
    "### pour cela, il faut mettre des '*' a la place des '+' (idem dans R)\n",
    "import statsmodels.api as sm\n",
    "\n",
    "table = sm.stats.anova_lm(smf.ols(formula=\"Lottery ~ Literacy * Wealth * Region\", data=df).fit(), typ=2) # Pour aller plus vite, en une seule ligne\n",
    "print(table)\n",
    "\n"
   ]
  },
  {
   "cell_type": "markdown",
   "metadata": {},
   "source": [
    "Rq: on peut aussi specifier TOUTES les interactions que l'on veut tester en mettant\n",
    "my_formula = \"Lottery ~ Literacy + Region + Literacy:Region + Wealth +  Wealth:Region + Literacy:Wealth + Literacy:Wealth:Region\"\n",
    "\n",
    "ceci revient au meme que 'Literacy * Wealth * Region'"
   ]
  },
  {
   "cell_type": "markdown",
   "metadata": {},
   "source": [
    "### ANOVA modele mixte (~ mesures répétées)"
   ]
  },
  {
   "cell_type": "markdown",
   "metadata": {},
   "source": [
    "c'est la que ca se complique: dans la plupart des expé en neuroscience ou psycho, on effectue plusieurs mesures chez un meme individu. On parle alors de mesures repetees, ce qui complique le calcul de la statistique\n",
    "\n",
    "On doit alors: chercher une mesure de significiativité des effets au sein de chaque individu entre differentes conditions par exemple ('fixed effect', ou facteur endogene), et à tester si ces differences au sein de chaque individu sont généralisables à un groupe, ou sont differentes entre des groupes d'individus ('random effect', ou effet exogene)\n",
    "\n",
    "quand on cherche à combiner les deux, on parle alors de "
   ]
  },
  {
   "cell_type": "code",
   "execution_count": 8,
   "metadata": {},
   "outputs": [
    {
     "data": {
      "text/html": [
       "<div>\n",
       "<style scoped>\n",
       "    .dataframe tbody tr th:only-of-type {\n",
       "        vertical-align: middle;\n",
       "    }\n",
       "\n",
       "    .dataframe tbody tr th {\n",
       "        vertical-align: top;\n",
       "    }\n",
       "\n",
       "    .dataframe thead th {\n",
       "        text-align: right;\n",
       "    }\n",
       "</style>\n",
       "<table border=\"1\" class=\"dataframe\">\n",
       "  <thead>\n",
       "    <tr style=\"text-align: right;\">\n",
       "      <th></th>\n",
       "      <th>Unnamed: 0</th>\n",
       "      <th>Weight</th>\n",
       "      <th>Feed</th>\n",
       "      <th>Time</th>\n",
       "      <th>Pig</th>\n",
       "      <th>Evit</th>\n",
       "      <th>Cu</th>\n",
       "      <th>Litter</th>\n",
       "    </tr>\n",
       "  </thead>\n",
       "  <tbody>\n",
       "    <tr>\n",
       "      <th>0</th>\n",
       "      <td>1</td>\n",
       "      <td>26.50000</td>\n",
       "      <td>NaN</td>\n",
       "      <td>1</td>\n",
       "      <td>4601</td>\n",
       "      <td>1</td>\n",
       "      <td>1</td>\n",
       "      <td>1</td>\n",
       "    </tr>\n",
       "    <tr>\n",
       "      <th>1</th>\n",
       "      <td>2</td>\n",
       "      <td>27.59999</td>\n",
       "      <td>5.200005</td>\n",
       "      <td>2</td>\n",
       "      <td>4601</td>\n",
       "      <td>1</td>\n",
       "      <td>1</td>\n",
       "      <td>1</td>\n",
       "    </tr>\n",
       "    <tr>\n",
       "      <th>2</th>\n",
       "      <td>3</td>\n",
       "      <td>36.50000</td>\n",
       "      <td>17.600000</td>\n",
       "      <td>3</td>\n",
       "      <td>4601</td>\n",
       "      <td>1</td>\n",
       "      <td>1</td>\n",
       "      <td>1</td>\n",
       "    </tr>\n",
       "    <tr>\n",
       "      <th>3</th>\n",
       "      <td>4</td>\n",
       "      <td>40.29999</td>\n",
       "      <td>28.500000</td>\n",
       "      <td>4</td>\n",
       "      <td>4601</td>\n",
       "      <td>1</td>\n",
       "      <td>1</td>\n",
       "      <td>1</td>\n",
       "    </tr>\n",
       "    <tr>\n",
       "      <th>4</th>\n",
       "      <td>5</td>\n",
       "      <td>49.09998</td>\n",
       "      <td>45.200001</td>\n",
       "      <td>5</td>\n",
       "      <td>4601</td>\n",
       "      <td>1</td>\n",
       "      <td>1</td>\n",
       "      <td>1</td>\n",
       "    </tr>\n",
       "  </tbody>\n",
       "</table>\n",
       "</div>"
      ],
      "text/plain": [
       "   Unnamed: 0    Weight       Feed  Time   Pig  Evit  Cu  Litter\n",
       "0           1  26.50000        NaN     1  4601     1   1       1\n",
       "1           2  27.59999   5.200005     2  4601     1   1       1\n",
       "2           3  36.50000  17.600000     3  4601     1   1       1\n",
       "3           4  40.29999  28.500000     4  4601     1   1       1\n",
       "4           5  49.09998  45.200001     5  4601     1   1       1"
      ]
     },
     "execution_count": 8,
     "metadata": {},
     "output_type": "execute_result"
    }
   ],
   "source": [
    "\n",
    "import statsmodels.api as sm\n",
    "import statsmodels.formula.api as smf\n",
    "\n",
    "data = pd.read_csv('./data/dietox.csv')\n",
    "data.head()\n"
   ]
  },
  {
   "cell_type": "markdown",
   "metadata": {},
   "source": [
    "Description du dataframe: on a plusieurs cochons (index dans la colonne 'Pig') que l'on a pesé ('Weight') a differents temps (Time), et on cherche a voir si le temps a une influence sur la pesé, en tenant compte du fait que les plusieurs mesures sont faites sur un meme individu (index dans la colonne 'Pig')"
   ]
  },
  {
   "cell_type": "code",
   "execution_count": 9,
   "metadata": {},
   "outputs": [
    {
     "name": "stdout",
     "output_type": "stream",
     "text": [
      "         Mixed Linear Model Regression Results\n",
      "========================================================\n",
      "Model:            MixedLM Dependent Variable: Weight    \n",
      "No. Observations: 861     Method:             REML      \n",
      "No. Groups:       72      Scale:              11.3669   \n",
      "Min. group size:  11      Log-Likelihood:     -2404.7753\n",
      "Max. group size:  12      Converged:          Yes       \n",
      "Mean group size:  12.0                                  \n",
      "--------------------------------------------------------\n",
      "             Coef.  Std.Err.    z    P>|z| [0.025 0.975]\n",
      "--------------------------------------------------------\n",
      "Intercept    15.724    0.788  19.952 0.000 14.179 17.268\n",
      "Time          6.943    0.033 207.939 0.000  6.877  7.008\n",
      "Group Var    40.394    2.149                            \n",
      "========================================================\n",
      "\n"
     ]
    }
   ],
   "source": [
    "md = smf.mixedlm('Weight ~ Time', data, groups=data['Pig']) \n",
    "## mixed lm: idem ols (avec formula) mais cette fois on rajoute une variable groups, qui indique le facteur de fixed effect\n",
    "mdf = md.fit()\n",
    "print(mdf.summary())"
   ]
  },
  {
   "cell_type": "code",
   "execution_count": null,
   "metadata": {
    "collapsed": true
   },
   "outputs": [],
   "source": []
  }
 ],
 "metadata": {
  "kernelspec": {
   "display_name": "Python 3",
   "language": "python",
   "name": "python3"
  },
  "language_info": {
   "codemirror_mode": {
    "name": "ipython",
    "version": 3
   },
   "file_extension": ".py",
   "mimetype": "text/x-python",
   "name": "python",
   "nbconvert_exporter": "python",
   "pygments_lexer": "ipython3",
   "version": "3.8.10"
  }
 },
 "nbformat": 4,
 "nbformat_minor": 2
}
