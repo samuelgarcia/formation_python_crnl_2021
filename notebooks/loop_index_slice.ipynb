{
 "cells": [
  {
   "cell_type": "markdown",
   "metadata": {},
   "source": [
    "\n",
    "# Les boucles, le slicing, les index de listes et les dictionnaires \n"
   ]
  },
  {
   "cell_type": "markdown",
   "metadata": {},
   "source": [
    "# Structure générale d'une boucle :    "
   ]
  },
  {
   "cell_type": "markdown",
   "metadata": {},
   "source": [
    "```python\n",
    "for item in maListe: #(toujours faire attention aux deux points!)\n",
    "    do something #(attention à l'indentation)\n",
    "```"
   ]
  },
  {
   "cell_type": "markdown",
   "metadata": {},
   "source": [
    "# Boucle for avec range (par compteur)"
   ]
  },
  {
   "cell_type": "markdown",
   "metadata": {},
   "source": [
    "Par exemple, si on veut boucler sur des index\n",
    "\n"
   ]
  },
  {
   "cell_type": "code",
   "execution_count": 2,
   "metadata": {},
   "outputs": [
    {
     "name": "stdout",
     "output_type": "stream",
     "text": [
      "0\n",
      "1\n",
      "2\n",
      "3\n",
      "4\n",
      "5\n",
      "6\n",
      "7\n",
      "8\n",
      "9\n"
     ]
    }
   ],
   "source": [
    "for i in range(10):\n",
    "    print(i)"
   ]
  },
  {
   "cell_type": "markdown",
   "metadata": {},
   "source": [
    "(Dans python < 3, range est une liste; depuis python 3, range est un iterable, chaque element est genéré a la volée.\n",
    "Ceci presente l'avantage de pouvoir boucler des millions de fois,sans avoir a stocker les milions d'elements de la liste"
   ]
  },
  {
   "cell_type": "markdown",
   "metadata": {},
   "source": [
    "# Boucle avec elements"
   ]
  },
  {
   "cell_type": "markdown",
   "metadata": {},
   "source": [
    "On peut aussi boucler sur les elements d'une liste directement"
   ]
  },
  {
   "cell_type": "code",
   "execution_count": 3,
   "metadata": {},
   "outputs": [
    {
     "name": "stdout",
     "output_type": "stream",
     "text": [
      "a\n",
      "b\n",
      "c\n",
      "d\n",
      "e\n",
      "f\n",
      "g\n",
      "h\n"
     ]
    }
   ],
   "source": [
    "lettres = ['a','b','c','d','e','f','g','h']\n",
    "\n",
    "for lettre in lettres:\n",
    "    print(lettre)"
   ]
  },
  {
   "cell_type": "markdown",
   "metadata": {},
   "source": [
    "On peut aussi repartir des indexs de la liste, en utilisant len(), qui donne la taille de la liste\n"
   ]
  },
  {
   "cell_type": "code",
   "execution_count": 4,
   "metadata": {},
   "outputs": [
    {
     "name": "stdout",
     "output_type": "stream",
     "text": [
      "8\n"
     ]
    }
   ],
   "source": [
    "print(len(lettres))"
   ]
  },
  {
   "cell_type": "code",
   "execution_count": 5,
   "metadata": {},
   "outputs": [
    {
     "name": "stdout",
     "output_type": "stream",
     "text": [
      "0 a\n",
      "1 b\n",
      "2 c\n",
      "3 d\n",
      "4 e\n",
      "5 f\n",
      "6 g\n",
      "7 h\n"
     ]
    }
   ],
   "source": [
    "for i in range(len(lettres)):\n",
    "    print(i,lettres[i])\n",
    "    "
   ]
  },
  {
   "cell_type": "markdown",
   "metadata": {},
   "source": [
    "# Exercice 1 - Copie de liste sans doublons\n",
    "\n",
    "Vous avez la liste suivante: \n",
    "\n",
    "nombres = [1, 3, 4, 5, 6, 3, 8, 7, 4, 1, 2, 5, 6, 3, 4, 9, 6] \n",
    "\n",
    "Créer une nouvelle liste à partir de la première, sans doublons (ie : sans deux fois le même élément). \n",
    "(aide : utiliser les methodes 'count' et 'append')\n",
    "\n",
    "Afficher la dans l'ordre décroissant (sorted() ou .sort(), voir les options)"
   ]
  },
  {
   "cell_type": "markdown",
   "metadata": {},
   "source": [
    "# Soultion 1 :"
   ]
  },
  {
   "cell_type": "code",
   "execution_count": 1,
   "metadata": {},
   "outputs": [
    {
     "name": "stdout",
     "output_type": "stream",
     "text": [
      "[9, 8, 7, 6, 5, 4, 3, 2, 1]\n"
     ]
    }
   ],
   "source": [
    "nombres = [1, 3, 4, 5, 6, 3, 8, 7, 4, 1, 2, 5, 6, 3, 4, 9, 6]\n",
    "nombres_copie=[]\n",
    "for el in nombres : \n",
    "    if nombres_copie.count(el) < 1 :\n",
    "        nombres_copie.append(el)\n",
    "\n",
    "print(sorted(nombres_copie,reverse=True))"
   ]
  },
  {
   "cell_type": "markdown",
   "metadata": {},
   "source": [
    "# Exercice 2 : boucle sur liste\n",
    "\n",
    "Construire une liste de 33 elements: \n",
    "```\n",
    "[ \"monique 0\", \"therese 0\", \"jean claude 0\",\n",
    "\"monique 1\", \"therese 1\", \"jean claude 1\",\n",
    "\"monique 2\", \"therese 2\", \"jean claude 2\", ... ,\n",
    "\"monique 10\" \"therese 10\", \"jean claude 10\"]\n",
    "```"
   ]
  },
  {
   "cell_type": "markdown",
   "metadata": {},
   "source": [
    "# Solution 2 :"
   ]
  },
  {
   "cell_type": "code",
   "execution_count": 6,
   "metadata": {},
   "outputs": [
    {
     "name": "stdout",
     "output_type": "stream",
     "text": [
      "['monique 0', 'therese 0', 'jean claude 0', 'monique 1', 'therese 1', 'jean claude 1', 'monique 2', 'therese 2', 'jean claude 2', 'monique 3', 'therese 3', 'jean claude 3', 'monique 4', 'therese 4', 'jean claude 4', 'monique 5', 'therese 5', 'jean claude 5', 'monique 6', 'therese 6', 'jean claude 6', 'monique 7', 'therese 7', 'jean claude 7', 'monique 8', 'therese 8', 'jean claude 8', 'monique 9', 'therese 9', 'jean claude 9', 'monique 10', 'therese 10', 'jean claude 10']\n"
     ]
    }
   ],
   "source": [
    "## solution 2\n",
    "liste_noms = []\n",
    "for i in range(11):\n",
    "    for nom in ['monique','therese','jean claude']:\n",
    "        nom_num = nom + ' ' + str(i)\n",
    "        liste_noms.append(nom_num)\n",
    "        \n",
    "print(liste_noms)"
   ]
  },
  {
   "cell_type": "markdown",
   "metadata": {},
   "source": [
    "# Exercice 3 : mot de passe\n",
    "\n",
    "chaine='0123456789ABCDEFGHIJKLMNOPQRSTUVWXYZabcdefghijklmnopqrstuvwxyz' \n",
    "\n",
    "Fixez une longueur N. \n",
    "\n",
    "D'apres la chaîne ci-dessous, générez un mot de passe aléatoire de longueur N.\n",
    "\n",
    "NB : import random puis random.choice(liste) permet de choisir au hasard un élément dans la liste\n"
   ]
  },
  {
   "cell_type": "markdown",
   "metadata": {},
   "source": [
    "# Solution 3 :"
   ]
  },
  {
   "cell_type": "code",
   "execution_count": 8,
   "metadata": {},
   "outputs": [
    {
     "name": "stdout",
     "output_type": "stream",
     "text": [
      "['6', 'F', 'e', 'M', 'B', 'X']\n",
      "6--F--e--M--B--X\n"
     ]
    }
   ],
   "source": [
    "import random\n",
    "N=6\n",
    "\n",
    "password=[]\n",
    "chaine='0123456789ABCDEFGHIJKLMNOPQRSTUVWXYZabcdefghijklmnopqrstuvwxyz'\n",
    "chaine=list(chaine)\n",
    "\n",
    "for i in range(N):\n",
    "    car = random.choice(chaine)\n",
    "    password.append(car)\n",
    "print(password)\n",
    "print(\"--\".join(password))"
   ]
  },
  {
   "cell_type": "markdown",
   "metadata": {},
   "source": [
    "# Enumerate"
   ]
  },
  {
   "cell_type": "markdown",
   "metadata": {},
   "source": [
    "Enumerate permet de boucler sur les éléments d'une liste tout en récuperant ses indexs "
   ]
  },
  {
   "cell_type": "code",
   "execution_count": 9,
   "metadata": {},
   "outputs": [
    {
     "name": "stdout",
     "output_type": "stream",
     "text": [
      "0 a\n",
      "1 b\n",
      "2 c\n",
      "3 d\n",
      "4 e\n",
      "5 f\n",
      "6 g\n",
      "7 h\n"
     ]
    }
   ],
   "source": [
    "for i,elem in enumerate(lettres):\n",
    "    print(i,elem)\n"
   ]
  },
  {
   "cell_type": "markdown",
   "metadata": {},
   "source": [
    "# Boucle sur dictionnaire"
   ]
  },
  {
   "cell_type": "markdown",
   "metadata": {},
   "source": [
    "Pour les dictionnaires, on boucle soit sur les cles (keys), soit sur les valeurs (values), soit sur les deux"
   ]
  },
  {
   "cell_type": "code",
   "execution_count": 10,
   "metadata": {},
   "outputs": [],
   "source": [
    "dict_alphabet = {'a':10,'b':20.0,'c':\"hello\"}\n"
   ]
  },
  {
   "cell_type": "markdown",
   "metadata": {},
   "source": [
    "On boucle sur les clefs ('a','b','c')"
   ]
  },
  {
   "cell_type": "code",
   "execution_count": 11,
   "metadata": {},
   "outputs": [
    {
     "name": "stdout",
     "output_type": "stream",
     "text": [
      "a\n",
      "b\n",
      "c\n"
     ]
    }
   ],
   "source": [
    "for key in dict_alphabet.keys():\n",
    "    print(key)\n",
    "    "
   ]
  },
  {
   "cell_type": "markdown",
   "metadata": {},
   "source": [
    "On boucle sur les valeurs (1,2,3)"
   ]
  },
  {
   "cell_type": "code",
   "execution_count": 12,
   "metadata": {},
   "outputs": [
    {
     "name": "stdout",
     "output_type": "stream",
     "text": [
      "10\n",
      "20.0\n",
      "hello\n"
     ]
    }
   ],
   "source": [
    "for val in dict_alphabet.values():\n",
    "    print(val)\n",
    "    "
   ]
  },
  {
   "cell_type": "markdown",
   "metadata": {},
   "source": [
    "!!! on peut recuperer les valeurs dans le dictionnaire a partir des clefs, mais pas l'inverse"
   ]
  },
  {
   "cell_type": "code",
   "execution_count": 13,
   "metadata": {},
   "outputs": [
    {
     "name": "stdout",
     "output_type": "stream",
     "text": [
      "a 10\n",
      "b 20.0\n",
      "c hello\n"
     ]
    }
   ],
   "source": [
    "for key in dict_alphabet.keys():\n",
    "    print(key, dict_alphabet[key])\n",
    "    "
   ]
  },
  {
   "cell_type": "markdown",
   "metadata": {},
   "source": [
    "!!! Attention, un dictionnaire n'a pas d' ordre, on va donc boucler dans un ordre inconnu"
   ]
  },
  {
   "cell_type": "markdown",
   "metadata": {},
   "source": [
    "La totale: on boucle sur les deux a la fois\n",
    "\n",
    "En python 3, on va utiliser items() (avant python < 3, iteritems())"
   ]
  },
  {
   "cell_type": "code",
   "execution_count": 14,
   "metadata": {},
   "outputs": [
    {
     "name": "stdout",
     "output_type": "stream",
     "text": [
      "a 10\n",
      "b 20.0\n",
      "c hello\n"
     ]
    }
   ],
   "source": [
    "for key,val in dict_alphabet.items():\n",
    "    print (key,val)\n",
    "    "
   ]
  },
  {
   "cell_type": "markdown",
   "metadata": {},
   "source": [
    "# Exercice 4: inverser un dictionnaire.\n",
    "\n",
    "dict_fr_to_en = { \"voiture\" : \"car\", \"maison\" : \"house\", \"vin\" : \"wine\", }\n",
    "\n",
    "donnera \n",
    "\n",
    "dict_en_to_fr = { ‘car’ : ‘voiture’,  ‘house’ : ‘maison’, ‘wine’ : ‘vin’}\n",
    "\n",
    "a la fin: \n",
    "print(dict_fr_to_en[\"voiture\"])\n",
    "print(dict_en_to_fr[\"car\"])\n",
    "\n",
    "!!! pour assigner une valeur a dict:\n",
    "\n",
    "dict_en_to_fr[key] = val\n",
    "\n",
    "!!! pour creer un dict vide:\n",
    "dict_en_to_fr = {}\n"
   ]
  },
  {
   "cell_type": "markdown",
   "metadata": {},
   "source": [
    "# Solution 4"
   ]
  },
  {
   "cell_type": "code",
   "execution_count": 15,
   "metadata": {},
   "outputs": [
    {
     "name": "stdout",
     "output_type": "stream",
     "text": [
      "{'car': 'voiture', 'house': 'maison', 'wine': 'vin'}\n"
     ]
    }
   ],
   "source": [
    "dict_fr_to_en = { \"voiture\" : \"car\", \"maison\" : \"house\", \"vin\" : \"wine\"}\n",
    "\n",
    "dict_en_to_fr = {}\n",
    "\n",
    "for key,value in dict_fr_to_en.items():\n",
    "    \n",
    "    dict_en_to_fr[value] = key\n",
    "    \n",
    "print(dict_en_to_fr)"
   ]
  },
  {
   "cell_type": "markdown",
   "metadata": {},
   "source": [
    "# Comprehention de liste"
   ]
  },
  {
   "cell_type": "markdown",
   "metadata": {},
   "source": [
    "Syntaxe classique\n",
    "\n",
    "```python\n",
    "ma_nouvelle_liste = []\n",
    "for item in ma_liste:\n",
    "    if condition(item):\n",
    "        nouvel_item = function(item)\n",
    "        ma_nouvelle_liste.append(nouvel_item)\n",
    "```"
   ]
  },
  {
   "cell_type": "markdown",
   "metadata": {},
   "source": [
    "- en une ligne\n",
    "\n",
    "```python\n",
    "ma_nouvelle_liste = [function(item) for item in maListe if condition(item)]\n",
    "```"
   ]
  },
  {
   "cell_type": "markdown",
   "metadata": {},
   "source": [
    "# Exercice 5 : compréhension de listes\n",
    "liste = [\"a\", \"yoda\", \"foo\", \"b\", \"c\", \"b\", \"d\", \"d\"] \n",
    "\n",
    "Ecrire, en une seule ligne l'instruction qui permet d'obtenir une nouvelle liste qui : \n",
    "- contient tous les éléments de liste de longueur inférieure ou égale à 2 \n",
    "\n",
    "- contient tous les éléments de liste qui ne sont pas \"d\" \n",
    "\n",
    "- contient tous les éléments de liste qui se répètent plusieurs fois"
   ]
  },
  {
   "cell_type": "markdown",
   "metadata": {},
   "source": [
    "# Solution 5 :"
   ]
  },
  {
   "cell_type": "code",
   "execution_count": 17,
   "metadata": {},
   "outputs": [
    {
     "name": "stdout",
     "output_type": "stream",
     "text": [
      "['a', 'b', 'c', 'b', 'd', 'd']\n",
      "['a', 'yoda', 'foo', 'b', 'c', 'b']\n",
      "['b', 'b', 'd', 'd']\n"
     ]
    }
   ],
   "source": [
    "liste = [\"a\", \"yoda\", \"foo\", \"b\", \"c\", \"b\", \"d\", \"d\"] \n",
    "\n",
    "l=[el for el in liste if len(el)<=2]\n",
    "print(l)\n",
    "l=[el for el in liste if el !=\"d\"]\n",
    "print(l)\n",
    "l=[el for el in liste if liste.count(el)>1]\n",
    "print(l)"
   ]
  },
  {
   "cell_type": "markdown",
   "metadata": {},
   "source": [
    "# Les subtilités de range\n",
    "\n",
    "Vous avez pu voir que quand on a affiché range(10), on avait en fait les valeurs 0,1, ... , 9\n",
    "\n"
   ]
  },
  {
   "cell_type": "code",
   "execution_count": 18,
   "metadata": {},
   "outputs": [
    {
     "name": "stdout",
     "output_type": "stream",
     "text": [
      "0\n",
      "1\n",
      "2\n",
      "3\n",
      "4\n",
      "5\n",
      "6\n",
      "7\n",
      "8\n",
      "9\n"
     ]
    }
   ],
   "source": [
    "for i in range(10):\n",
    "    print(i)"
   ]
  },
  {
   "cell_type": "markdown",
   "metadata": {},
   "source": [
    "En fait on a 10 éléments (qui correspondent au '10' que l'on a donné en argument), avec les indexes qui partent de 0 \n",
    "\n",
    "python fonctionne de manière bizarre à première vue, mais qui est en fait très pratique:"
   ]
  },
  {
   "cell_type": "code",
   "execution_count": 19,
   "metadata": {},
   "outputs": [
    {
     "name": "stdout",
     "output_type": "stream",
     "text": [
      "5\n",
      "6\n",
      "7\n",
      "8\n",
      "9\n"
     ]
    }
   ],
   "source": [
    "## example avec range(start = 5, stop = 10)   ->  [5:10[\n",
    "\n",
    "for i in range(5,10):\n",
    "    print(i)\n"
   ]
  },
  {
   "cell_type": "markdown",
   "metadata": {},
   "source": [
    "!!! on indique la première valeur (5) qui est incluse, mais la derniere valeur (10) est EXCLUE\n",
    "\n",
    "L'explication tiens au fait qu'avec l'indexation qui commence a 0, pour les indexes de 5 à 10, on se retrouve avec 6 elements [5,6,7,8,9,10]. Dans les autres languages (type C, C++) , on en permanence en train de jouer avec des N-1, ou des < (strictement inférieur) à N. Ici on sait que l'on veut *start - stop* = N (5) elements, donc on indique 5 (la ou l'on commence) et 10 (le dernier element non inclus), et on a bien 5 elements, meme si la liste s'arrête à 9"
   ]
  },
  {
   "cell_type": "markdown",
   "metadata": {},
   "source": [
    "Il y a un troisieme parametre dans range, qui est le pas (step):\n",
    "\n",
    "**range(start,stop,step)**"
   ]
  },
  {
   "cell_type": "code",
   "execution_count": 20,
   "metadata": {},
   "outputs": [
    {
     "name": "stdout",
     "output_type": "stream",
     "text": [
      "5\n",
      "7\n",
      "9\n",
      "11\n",
      "13\n",
      "15\n",
      "17\n",
      "19\n"
     ]
    }
   ],
   "source": [
    "for i in range(5,20,2):\n",
    "    print(i)\n"
   ]
  },
  {
   "cell_type": "markdown",
   "metadata": {},
   "source": [
    "On verra par la suite avec le slicing, mais:\n",
    " \n",
    "- si un seul parametre à la fonction:\n",
    "range(20) -> stop = 20 (default, start = 0, step 1)\n",
    "\n",
    "- si deux parametres à la fonction: \n",
    "range(5,10) -> start = 5, stop = 10 (default, step = 1) \n",
    "\n",
    "!!! range(20,2) retourne une liste vide (start = 20, stop = 2, impossible)"
   ]
  },
  {
   "cell_type": "code",
   "execution_count": 21,
   "metadata": {},
   "outputs": [],
   "source": [
    "for i in range(20,2):\n",
    "    print(i)\n",
    "    "
   ]
  },
  {
   "cell_type": "markdown",
   "metadata": {},
   "source": [
    "# Indexation des elements"
   ]
  },
  {
   "cell_type": "markdown",
   "metadata": {},
   "source": [
    "on peut acceder a des elements par leur index, entre 0 et N-1 si on a N elements dans une liste"
   ]
  },
  {
   "cell_type": "code",
   "execution_count": 24,
   "metadata": {},
   "outputs": [
    {
     "name": "stdout",
     "output_type": "stream",
     "text": [
      "a\n"
     ]
    }
   ],
   "source": [
    "lettres = ['a','b','c','d','e','f','g','h']\n",
    "\n",
    "print(lettres[0])"
   ]
  },
  {
   "cell_type": "code",
   "execution_count": 25,
   "metadata": {},
   "outputs": [
    {
     "name": "stdout",
     "output_type": "stream",
     "text": [
      "b\n"
     ]
    }
   ],
   "source": [
    "print(lettres[1])"
   ]
  },
  {
   "cell_type": "code",
   "execution_count": 26,
   "metadata": {},
   "outputs": [
    {
     "ename": "IndexError",
     "evalue": "list index out of range",
     "output_type": "error",
     "traceback": [
      "\u001b[0;31m---------------------------------------------------------------------------\u001b[0m",
      "\u001b[0;31mIndexError\u001b[0m                                Traceback (most recent call last)",
      "\u001b[0;32m<ipython-input-26-253a02e6eeb2>\u001b[0m in \u001b[0;36m<module>\u001b[0;34m\u001b[0m\n\u001b[1;32m      1\u001b[0m \u001b[0;31m## attention, lettres[N] - avec N la longueur de la liste - plante\u001b[0m\u001b[0;34m\u001b[0m\u001b[0;34m\u001b[0m\u001b[0;34m\u001b[0m\u001b[0m\n\u001b[0;32m----> 2\u001b[0;31m \u001b[0mprint\u001b[0m\u001b[0;34m(\u001b[0m\u001b[0mlettres\u001b[0m\u001b[0;34m[\u001b[0m\u001b[0;36m8\u001b[0m\u001b[0;34m]\u001b[0m\u001b[0;34m)\u001b[0m\u001b[0;34m\u001b[0m\u001b[0;34m\u001b[0m\u001b[0m\n\u001b[0m",
      "\u001b[0;31mIndexError\u001b[0m: list index out of range"
     ]
    }
   ],
   "source": [
    "## attention, lettres[N] - avec N la longueur de la liste - plante \n",
    "print(lettres[8])"
   ]
  },
  {
   "cell_type": "markdown",
   "metadata": {},
   "source": [
    "-1 a un comportement spécial: il permet d'indiquer le dernier element de la liste \n"
   ]
  },
  {
   "cell_type": "code",
   "execution_count": 27,
   "metadata": {},
   "outputs": [
    {
     "name": "stdout",
     "output_type": "stream",
     "text": [
      "h\n"
     ]
    }
   ],
   "source": [
    "print(lettres[-1])\n"
   ]
  },
  {
   "cell_type": "markdown",
   "metadata": {},
   "source": [
    "Il est donc equivalent à len(lettres)-1, mais quelque soit la longueur de la liste"
   ]
  },
  {
   "cell_type": "code",
   "execution_count": 28,
   "metadata": {},
   "outputs": [
    {
     "name": "stdout",
     "output_type": "stream",
     "text": [
      "h\n"
     ]
    }
   ],
   "source": [
    "len_list = len(lettres)\n",
    "print(lettres[len_list-1])"
   ]
  },
  {
   "cell_type": "code",
   "execution_count": 29,
   "metadata": {},
   "outputs": [
    {
     "name": "stdout",
     "output_type": "stream",
     "text": [
      "g\n"
     ]
    }
   ],
   "source": [
    "# et on peut faire du moonwalk...\n",
    "print(lettres[-2])"
   ]
  },
  {
   "cell_type": "markdown",
   "metadata": {},
   "source": [
    "# Slicing sur liste"
   ]
  },
  {
   "cell_type": "markdown",
   "metadata": {},
   "source": [
    "Quand on veut recuperer plusieurs elements (dans un intervale par exemple), on parle de **slicing**\n",
    "\n",
    "Un intervale est specifié par start:stop(:step) AVEC STOP NON INCLUS (comme range)\n",
    "\n",
    "Par defaut (si omis), step = 1 (comme range)\n"
   ]
  },
  {
   "cell_type": "code",
   "execution_count": 30,
   "metadata": {},
   "outputs": [
    {
     "name": "stdout",
     "output_type": "stream",
     "text": [
      "['b', 'd', 'f']\n"
     ]
    }
   ],
   "source": [
    "lettres = ['a','b','c','d','e','f','g','h'] #nb_elements : 8\n",
    "\n",
    "print(lettres[1:7:2])   # 'h' non inclus"
   ]
  },
  {
   "cell_type": "code",
   "execution_count": 31,
   "metadata": {},
   "outputs": [
    {
     "name": "stdout",
     "output_type": "stream",
     "text": [
      "['b', 'd', 'f', 'h']\n"
     ]
    }
   ],
   "source": [
    "#tous les 2 elements a partir du second \n",
    "print(lettres[1::2])"
   ]
  },
  {
   "cell_type": "code",
   "execution_count": 32,
   "metadata": {},
   "outputs": [
    {
     "name": "stdout",
     "output_type": "stream",
     "text": [
      "['d', 'e']\n"
     ]
    }
   ],
   "source": [
    "## a partir du 4eme element et jusqu'6eme NON INCLUS\n",
    "print(lettres[3:5])"
   ]
  },
  {
   "cell_type": "code",
   "execution_count": 33,
   "metadata": {},
   "outputs": [
    {
     "name": "stdout",
     "output_type": "stream",
     "text": [
      "['a', 'b', 'c', 'd', 'e']\n"
     ]
    }
   ],
   "source": [
    "## debut explicite, step = 1 explicite\n",
    "print(lettres[:5])"
   ]
  },
  {
   "cell_type": "markdown",
   "metadata": {},
   "source": [
    "Si on indique un step négatif, on va dans l'ordre decroissant\n"
   ]
  },
  {
   "cell_type": "code",
   "execution_count": 34,
   "metadata": {},
   "outputs": [
    {
     "name": "stdout",
     "output_type": "stream",
     "text": [
      "['f', 'e']\n"
     ]
    }
   ],
   "source": [
    "print(lettres[5:3:-1])\n"
   ]
  },
  {
   "cell_type": "markdown",
   "metadata": {},
   "source": [
    "!!! Attention a ce que cette fois, le pus grand index (5) est inclus - 6eme element f - est le plus petit index (3 - 4eme élement) est exclu "
   ]
  },
  {
   "cell_type": "code",
   "execution_count": 35,
   "metadata": {},
   "outputs": [
    {
     "name": "stdout",
     "output_type": "stream",
     "text": [
      "['h', 'g', 'f', 'e', 'd', 'c', 'b', 'a']\n"
     ]
    }
   ],
   "source": [
    "## ordre inverse de la liste\n",
    "print(lettres[::-1])"
   ]
  },
  {
   "cell_type": "markdown",
   "metadata": {},
   "source": [
    "!!! il faut indiquer un start ET un stop pour indiquer un step, avec 2 fois ':' . Si deux valeurs (et un seul ':') seulement sont indiqués, par defaut c'est start et stop"
   ]
  },
  {
   "cell_type": "code",
   "execution_count": 36,
   "metadata": {},
   "outputs": [
    {
     "name": "stdout",
     "output_type": "stream",
     "text": [
      "['f', 'g']\n"
     ]
    }
   ],
   "source": [
    "print(lettres[5:-1])\n",
    "## On part du 6eme élement jusqu'a l'avant dernier (signification du -1)"
   ]
  },
  {
   "cell_type": "code",
   "execution_count": 37,
   "metadata": {},
   "outputs": [
    {
     "name": "stdout",
     "output_type": "stream",
     "text": [
      "['f', 'e', 'd', 'c', 'b']\n"
     ]
    }
   ],
   "source": [
    "print(lettres[5:0:-1])\n",
    "## on part du 6eme élement et on va jusqu'au premier (non inclus) dans l'ordre inverse\n",
    "\n",
    "####### comment on fait pour inclure aussi la premiere valeur???\n",
    "#print(lettres[5::-1])"
   ]
  },
  {
   "cell_type": "markdown",
   "metadata": {},
   "source": [
    "# Exercice 6 :  slicing + concat\n",
    "\n",
    "décoder le message suivant:\n",
    "\n",
    "l = [\"python\", \"compris\", \"c'est\", \"parfaitement\",   \"super\",   \"j'ai\"]  \n",
    "\n"
   ]
  },
  {
   "cell_type": "markdown",
   "metadata": {},
   "source": [
    "# Solution 6"
   ]
  },
  {
   "cell_type": "code",
   "execution_count": 38,
   "metadata": {},
   "outputs": [
    {
     "name": "stdout",
     "output_type": "stream",
     "text": [
      "['python', \"c'est\", 'super', \"j'ai\", 'parfaitement', 'compris']\n"
     ]
    }
   ],
   "source": [
    "l = [\"python\", \"compris\", \"c'est\", \"parfaitement\",   \"super\",   \"j'ai\"]  \n",
    "\n",
    "print(l[::2] + l[5::-2])\n"
   ]
  },
  {
   "cell_type": "markdown",
   "metadata": {},
   "source": [
    "# Exercice 7 : le palindrome\n",
    "\n",
    "La phrase : \n",
    "\n",
    "###### \"eh ca va la vache\"\n",
    "\n",
    "est un palindrome.\n",
    "\n",
    "Vérifiez le !\n",
    "\n",
    "NB : une chaine de caractères peut contenir des espaces, à enlever \n",
    "\n",
    "NB2 : la méthode .remove(x) enlève la première occurence de x dans une LISTE"
   ]
  },
  {
   "cell_type": "markdown",
   "metadata": {},
   "source": [
    "# Solution 7 :"
   ]
  },
  {
   "cell_type": "code",
   "execution_count": 39,
   "metadata": {},
   "outputs": [
    {
     "name": "stdout",
     "output_type": "stream",
     "text": [
      "['e', 'h', 'c', 'a', 'v', 'a', 'l', 'a', 'v', 'a', 'c', 'h', 'e']\n",
      "palindrome\n",
      "La phrase est un palindrome :  True\n"
     ]
    }
   ],
   "source": [
    "phrase = \"eh ca va la vache\"\n",
    "phrase=list(phrase)\n",
    "for i in range(phrase.count(\" \")):\n",
    "    phrase.remove(\" \")\n",
    "\n",
    "phrase_envers=phrase[::-1]\n",
    "\n",
    "print(phrase_envers)\n",
    "\n",
    "if (phrase == phrase_envers) :\n",
    "    print(\"palindrome\")\n",
    "else :\n",
    "    print(\"pas palindrome\")\n",
    "    \n",
    "# ou : \n",
    "\n",
    "print(\"La phrase est un palindrome : \", (phrase==phrase[::-1]) )\n"
   ]
  },
  {
   "cell_type": "markdown",
   "metadata": {},
   "source": [
    "# Exercice 8 : copie / clonage\n",
    "\n",
    "Créez une liste avec 3 éléments.\n",
    "\n",
    "Faites une copie de cette liste.\n",
    "\n",
    "Changez un des éléments dans la liste originelle.\n",
    "\n",
    "Que constatez-vous sur la copie ?\n",
    "\n"
   ]
  },
  {
   "cell_type": "markdown",
   "metadata": {},
   "source": [
    "# Solution 8 :"
   ]
  },
  {
   "cell_type": "code",
   "execution_count": 40,
   "metadata": {},
   "outputs": [
    {
     "name": "stdout",
     "output_type": "stream",
     "text": [
      "[1, 2, 3]\n",
      "[1000, 2, 3]\n"
     ]
    }
   ],
   "source": [
    "l1=[1,2,3]\n",
    "l2=l1\n",
    "print(l2)\n",
    "l1[0]=1000\n",
    "print(l2)"
   ]
  },
  {
   "cell_type": "markdown",
   "metadata": {},
   "source": [
    "# Exercice 9 : slicing de liste\n",
    "On a la liste suivante : \n",
    "\n",
    "liste = \"Amanda\" \n",
    "\n",
    "Utilisez le slicing pour obtenir les chaines suivantes : \n",
    "+ A \n",
    "+ a \n",
    "+ man \n",
    "+ Aa \n",
    "+ adnamA \n",
    "+ nda \n",
    "+ anm \n",
    "+ aa \n",
    "+ da"
   ]
  },
  {
   "cell_type": "markdown",
   "metadata": {},
   "source": [
    "# Solution 9 :"
   ]
  },
  {
   "cell_type": "code",
   "execution_count": 41,
   "metadata": {},
   "outputs": [
    {
     "name": "stdout",
     "output_type": "stream",
     "text": [
      "A\n",
      "a\n",
      "man\n",
      "Aa\n",
      "adnamA\n",
      "nda\n",
      "anm\n",
      "aa\n",
      "da\n"
     ]
    }
   ],
   "source": [
    "liste = \"Amanda\"\n",
    "print(liste[0])\n",
    "print(liste[-1])\n",
    "print(liste[1:4])\n",
    "print(liste[0:4:2])\n",
    "print(liste[::-1])\n",
    "print(liste[3:])\n",
    "print(liste[::-2])\n",
    "print(liste[::-3])\n",
    "print(liste[-2:])"
   ]
  },
  {
   "cell_type": "code",
   "execution_count": null,
   "metadata": {},
   "outputs": [],
   "source": []
  },
  {
   "cell_type": "code",
   "execution_count": null,
   "metadata": {},
   "outputs": [],
   "source": []
  }
 ],
 "metadata": {
  "kernelspec": {
   "display_name": "Python 3",
   "language": "python",
   "name": "python3"
  },
  "language_info": {
   "codemirror_mode": {
    "name": "ipython",
    "version": 3
   },
   "file_extension": ".py",
   "mimetype": "text/x-python",
   "name": "python",
   "nbconvert_exporter": "python",
   "pygments_lexer": "ipython3",
   "version": "3.8.10"
  }
 },
 "nbformat": 4,
 "nbformat_minor": 2
}
