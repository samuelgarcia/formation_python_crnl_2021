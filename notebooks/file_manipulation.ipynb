{
 "cells": [
  {
   "cell_type": "markdown",
   "metadata": {},
   "source": [
    "___\n",
    "# Manipulation de fichiers\n",
    "___"
   ]
  },
  {
   "cell_type": "markdown",
   "metadata": {},
   "source": [
    "# open\n",
    "\n",
    "Le mode est donné sous la forme d'une chaîne de caractères. Voici les principaux modes :\n",
    "\n",
    "    'r' : ouverture en lecture (Read).\n",
    "\n",
    "    'w' : ouverture en écriture (Write). Le contenu du fichier est écrasé. Si le fichier n'existe pas, il est créé.\n",
    "\n",
    "    'a' : ouverture en écriture en mode ajout (Append). On écrit à la fin du fichier sans écraser l'ancien contenu du fichier. Si le fichier n'existe pas, il est créé.\n",
    "    "
   ]
  },
  {
   "cell_type": "code",
   "execution_count": 8,
   "metadata": {},
   "outputs": [
    {
     "data": {
      "text/plain": [
       "3"
      ]
     },
     "execution_count": 8,
     "metadata": {},
     "output_type": "execute_result"
    }
   ],
   "source": [
    "f = open(\"toto.txt\",'w')\n",
    "f.write('yep')"
   ]
  },
  {
   "cell_type": "markdown",
   "metadata": {},
   "source": [
    "# close\n",
    "\n",
    "Lorsque l'on a fini de manipuler un fichier ouvert, il est normalement necessaire de le fermer, pour liberer les ressources liées à ce fichier"
   ]
  },
  {
   "cell_type": "code",
   "execution_count": 9,
   "metadata": {},
   "outputs": [],
   "source": [
    "f.close()"
   ]
  },
  {
   "cell_type": "markdown",
   "metadata": {},
   "source": [
    "# with"
   ]
  },
  {
   "cell_type": "markdown",
   "metadata": {},
   "source": [
    "La \"vraie\" maniere de faire consiste a utiliser le mot-clé \"with\". Ceci evite d'avoir à fermer explicitement le fichier avec close"
   ]
  },
  {
   "cell_type": "code",
   "execution_count": 10,
   "metadata": {},
   "outputs": [
    {
     "name": "stdout",
     "output_type": "stream",
     "text": [
      "False\n",
      "True\n"
     ]
    }
   ],
   "source": [
    "\n",
    "with open(\"toto.txt\",'r') as f:  # le fichier existe à l'avance sinon error\n",
    "    print(f.closed) ## closed (et pas 'close') est un marqueur booleen indiquant si le fichier est ouvert ou fermé\n",
    "print(f.closed) \n"
   ]
  },
  {
   "cell_type": "markdown",
   "metadata": {},
   "source": [
    "# read"
   ]
  },
  {
   "cell_type": "code",
   "execution_count": 11,
   "metadata": {},
   "outputs": [
    {
     "name": "stdout",
     "output_type": "stream",
     "text": [
      "val :  yep\n"
     ]
    }
   ],
   "source": [
    "### je veux voir le contenu de mon fichier\n",
    "with open(\"toto.txt\",'r') as f:\n",
    "    val = f.read() \n",
    "print('val : ', val)"
   ]
  },
  {
   "cell_type": "markdown",
   "metadata": {},
   "source": [
    "tout le contenu du fichier est lu d'un coup"
   ]
  },
  {
   "cell_type": "code",
   "execution_count": 12,
   "metadata": {},
   "outputs": [
    {
     "name": "stdout",
     "output_type": "stream",
     "text": [
      "y\n",
      "e\n",
      "p\n"
     ]
    }
   ],
   "source": [
    "### la chaine de caratere est en realité une liste de caratères\n",
    "print(val[0])\n",
    "print(val[1])\n",
    "print(val[-1]) ### c'est le dernier charactère"
   ]
  },
  {
   "cell_type": "code",
   "execution_count": 6,
   "metadata": {},
   "outputs": [
    {
     "name": "stdout",
     "output_type": "stream",
     "text": [
      "fini!\n"
     ]
    }
   ],
   "source": [
    "### on peut tester la valeur de chaque caractere\n",
    "for i,car in enumerate(val):\n",
    "    if car == \"u\" :\n",
    "        break\n",
    "    print(i, car)\n",
    "print(\"fini!\")"
   ]
  },
  {
   "cell_type": "markdown",
   "metadata": {},
   "source": [
    "# readlines"
   ]
  },
  {
   "cell_type": "code",
   "execution_count": 8,
   "metadata": {},
   "outputs": [
    {
     "name": "stdout",
     "output_type": "stream",
     "text": [
      "['Coucou !\\n', 'Ca va ?']\n"
     ]
    }
   ],
   "source": [
    "### je veux voir le contenu de mon fichier ligne par ligne\n",
    "f = open(\"toto.txt\",'r')\n",
    "print(f.readlines())\n",
    "f.close()\n"
   ]
  },
  {
   "cell_type": "markdown",
   "metadata": {},
   "source": [
    "chaque ligne est stockée comme un element d'une liste python\n",
    "!Attention, une fois le readlines effectué, on est la fin du fichier!"
   ]
  },
  {
   "cell_type": "markdown",
   "metadata": {},
   "source": [
    "la segmentation du fichier par caractere n'est pas tres interessante pour un fichier texte \n",
    "(ca peut l'etre pour un fichier binaire)\n",
    "\n",
    "En revanche la segmentation par mots (i.e. groupe de carateres separés par des espaces) est intéressante"
   ]
  },
  {
   "cell_type": "code",
   "execution_count": 11,
   "metadata": {},
   "outputs": [
    {
     "name": "stdout",
     "output_type": "stream",
     "text": [
      "['Coucou !', '']\n",
      "['Ca va ?']\n"
     ]
    }
   ],
   "source": [
    "with open(\"toto.txt\") as f:\n",
    "    for line in f.readlines():\n",
    "        print (line.split(\"\\n\"))"
   ]
  },
  {
   "cell_type": "markdown",
   "metadata": {},
   "source": [
    "on a chaque mot segmenté dans une liste de chaine de caractères"
   ]
  },
  {
   "cell_type": "code",
   "execution_count": 15,
   "metadata": {},
   "outputs": [
    {
     "name": "stdout",
     "output_type": "stream",
     "text": [
      "Coucou !\n",
      "Ca va ?\n",
      "j'ai trouvé 'CA' !\n"
     ]
    }
   ],
   "source": [
    "## pour eviter d'avoir le retour a la ligne '\\n' on peut utiliser la commande strip() sur la ligne\n",
    "with open(\"toto.txt\") as f:\n",
    "    for line in f.readlines():\n",
    "        line = line.strip()\n",
    "        print(line)\n",
    "        if 'Ca' in line.split(\" \"):\n",
    "            print(\"j'ai trouvé 'CA' !\")\n",
    "            break ### stop si on trouve 'Ca' dans la ligne\n",
    "            \n"
   ]
  },
  {
   "cell_type": "code",
   "execution_count": 17,
   "metadata": {},
   "outputs": [
    {
     "name": "stdout",
     "output_type": "stream",
     "text": [
      "Coucou\n",
      "found 'ou'\n",
      "!\n",
      "Ca\n",
      "va\n",
      "?\n",
      "['!', 'Ca', 'va', '?']\n"
     ]
    }
   ],
   "source": [
    "### on peut aussi boucler sur la liste apres .split\n",
    "\n",
    "list_mots_sans_ou = []\n",
    "with open(\"toto.txt\") as f:\n",
    "    for line in f.readlines():\n",
    "        for word in line.strip().split(\" \"):\n",
    "            print(word)\n",
    "            if word.endswith(\"ou\"):                \n",
    "                print (\"found 'ou'\") ### stop si le mot finit par 'ou'\n",
    "                \n",
    "            else:\n",
    "                list_mots_sans_ou.append(word)\n",
    "print (list_mots_sans_ou)\n",
    "\n",
    "                "
   ]
  },
  {
   "cell_type": "code",
   "execution_count": 18,
   "metadata": {},
   "outputs": [
    {
     "name": "stdout",
     "output_type": "stream",
     "text": [
      "['Coucou', '!', 'Ca', 'va', '?']\n"
     ]
    }
   ],
   "source": [
    "### Encore plus court (facultatif, si list comrehension a été vu...)\n",
    "with open(\"toto.txt\") as f :\n",
    "    list_mots_sans_te = [word for line in f.readlines() for word in line.strip().split(\" \") if not word.endswith(\"te\")]\n",
    "print(list_mots_sans_te)"
   ]
  },
  {
   "cell_type": "markdown",
   "metadata": {},
   "source": [
    "# Exercice: write, write append\n",
    "\n",
    "A) write  et \"w\"\n",
    "\n",
    "    A1) Ouvrir un fichier en mode write, \n",
    "\n",
    "    A2) Ecrire dans ce fichier:\n",
    "    \n",
    "\"Ceci est la premiere ligne ajoutee\"\n",
    "\n",
    "    A3) Fermer le fichier\n",
    "\n",
    "    A4) Relire le contenu du fichier\n",
    "    \n",
    "B) with, write et \"w\"\n",
    "\n",
    "    B1) Ouvrir le fichier en mode write avec with\n",
    "\n",
    "    B2) Ecrire dans le fichier \n",
    "    \n",
    "\"Ceci est la deuxieme ligne ajoutee\"\n",
    "\n",
    "    B3) Relire le contenu du fichier\n",
    "\n",
    "C) with, write et \"a\"\n",
    "\n",
    "    C1) Ouvrir le fichier en mode append avec with\n",
    "    \n",
    "    C2) Ecrire dans le fichier\n",
    "    \n",
    "\"Ceci est la deuxieme ligne ajoutee\"\n",
    "\n",
    "    C3) Relire le contenu du fichier\n",
    "    "
   ]
  },
  {
   "cell_type": "code",
   "execution_count": 24,
   "metadata": {},
   "outputs": [
    {
     "name": "stdout",
     "output_type": "stream",
     "text": [
      "val_A :  Ceci est la premiere ligne ajoutee\n",
      "val_B :  Ceci est la deuxieme ligne ajoutee\n",
      "\n",
      "val_C :  Ceci est la deuxieme ligne ajoutee\n",
      "Ceci est la deuxieme ligne ajoutee\n"
     ]
    }
   ],
   "source": [
    "# A\n",
    "f = open(\"alex.txt\",'w')\n",
    "f.write(\"Ceci est la premiere ligne ajoutee\")\n",
    "f.close()\n",
    "\n",
    "f = open(\"alex.txt\",'r')\n",
    "val_A = f.read()\n",
    "f.close()\n",
    "\n",
    "print('val_A : ', val_A)\n",
    "\n",
    "# B\n",
    "with open(\"alex.txt\",'w') as f:\n",
    "    f.write(\"Ceci est la deuxieme ligne ajoutee\")\n",
    "    f.write('\\n')\n",
    "\n",
    "with open(\"alex.txt\",'r') as f:\n",
    "    val_B = f.read()\n",
    "    \n",
    "print('val_B : ', val_B)  # On a donc écrasé l'ancien contenu de notre fichier !!\n",
    "\n",
    "# C \n",
    "with open(\"alex.txt\",'a') as f:\n",
    "    #f.write('\\n')\n",
    "    f.write(\"Ceci est la deuxieme ligne ajoutee\")\n",
    "\n",
    "with open(\"alex.txt\",'r') as f:\n",
    "    val_C = f.read()\n",
    "    \n",
    "print('val_C : ', val_C)"
   ]
  },
  {
   "cell_type": "markdown",
   "metadata": {},
   "source": [
    "# Lecture de données"
   ]
  },
  {
   "cell_type": "markdown",
   "metadata": {},
   "source": [
    "## \"A l'ancienne\""
   ]
  },
  {
   "cell_type": "code",
   "execution_count": 28,
   "metadata": {},
   "outputs": [
    {
     "name": "stdout",
     "output_type": "stream",
     "text": [
      "(20, 3)\n",
      "[[-12  56   4]\n",
      " [  6  50  12]\n",
      " [  8  36   2]\n",
      " [ 24  24 -18]\n",
      " [-12  22  28]\n",
      " [-12  22  26]\n",
      " [-32  20 -18]\n",
      " [-28  16  32]\n",
      " [-48  14   8]\n",
      " [-10  10  44]\n",
      " [-34   8  38]\n",
      " [  4   6  50]\n",
      " [  4   6  50]\n",
      " [ 10   4  74]\n",
      " [ -2   4  44]\n",
      " [ 24   4 -10]\n",
      " [ 24   4 -16]\n",
      " [ 40   2  62]\n",
      " [-54   2  38]\n",
      " [-26  -4  70]]\n"
     ]
    }
   ],
   "source": [
    "import numpy as np\n",
    "with open('./data/Coords.txt', 'r') as f:\n",
    "    \n",
    "    tab = []\n",
    "    for line in f.readlines():\n",
    "        \n",
    "        val = line.strip().split('\\t') # on découpe la ligne autours des \\t sans les caractères en plus (\\n)\n",
    "        val = list(map(int,val)) ### string to integer\n",
    "        \n",
    "        tab.append(val)\n",
    "        \n",
    "    data = np.array(tab)\n",
    "    \n",
    "    print (data.shape)\n",
    "    print(data)\n",
    "    "
   ]
  },
  {
   "cell_type": "markdown",
   "metadata": {},
   "source": [
    "# csv"
   ]
  },
  {
   "cell_type": "code",
   "execution_count": 35,
   "metadata": {},
   "outputs": [
    {
     "name": "stdout",
     "output_type": "stream",
     "text": [
      "['-12\\t56\\t4']\n",
      "['6\\t50\\t12']\n",
      "['8\\t36\\t2']\n",
      "['24\\t24\\t-18']\n",
      "['-12\\t22\\t28']\n",
      "['-12\\t22\\t26']\n",
      "['-32\\t20\\t-18']\n",
      "['-28\\t16\\t32']\n",
      "['-48\\t14\\t8']\n",
      "['-10\\t10\\t44']\n",
      "['-34\\t8\\t38']\n",
      "['4\\t6\\t50']\n",
      "['4\\t6\\t50']\n",
      "['10\\t4\\t74']\n",
      "['-2\\t4\\t44']\n",
      "['24\\t4\\t-10']\n",
      "['24\\t4\\t-16']\n",
      "['40\\t2\\t62']\n",
      "['-54\\t2\\t38']\n",
      "['-26\\t-4\\t70']\n"
     ]
    }
   ],
   "source": [
    "import csv\n",
    "\n",
    "with open('./data/Coords.txt', 'r') as f:\n",
    "    \n",
    "    reader = csv.reader(f)\n",
    "    \n",
    "    for row in reader:\n",
    "        print (row)\n"
   ]
  },
  {
   "cell_type": "code",
   "execution_count": 40,
   "metadata": {},
   "outputs": [
    {
     "name": "stdout",
     "output_type": "stream",
     "text": [
      "[[-12, 56, 4], [6, 50, 12], [8, 36, 2], [24, 24, -18], [-12, 22, 28], [-12, 22, 26], [-32, 20, -18], [-28, 16, 32], [-48, 14, 8], [-10, 10, 44], [-34, 8, 38], [4, 6, 50], [4, 6, 50], [10, 4, 74], [-2, 4, 44], [24, 4, -10], [24, 4, -16], [40, 2, 62], [-54, 2, 38], [-26, -4, 70]]\n",
      "[[-12  56   4]\n",
      " [  6  50  12]\n",
      " [  8  36   2]\n",
      " [ 24  24 -18]\n",
      " [-12  22  28]\n",
      " [-12  22  26]\n",
      " [-32  20 -18]\n",
      " [-28  16  32]\n",
      " [-48  14   8]\n",
      " [-10  10  44]\n",
      " [-34   8  38]\n",
      " [  4   6  50]\n",
      " [  4   6  50]\n",
      " [ 10   4  74]\n",
      " [ -2   4  44]\n",
      " [ 24   4 -10]\n",
      " [ 24   4 -16]\n",
      " [ 40   2  62]\n",
      " [-54   2  38]\n",
      " [-26  -4  70]]\n"
     ]
    }
   ],
   "source": [
    "### par default, \n",
    "with open('./data/Coords.txt', 'r') as f:\n",
    "   \n",
    "    reader = csv.reader(f,delimiter = '\\t')\n",
    "    list_vals = []\n",
    "    \n",
    "    for row in reader:\n",
    "        list_vals.append(list(map(int,row)))\n",
    "    \n",
    "    print(list_vals)\n",
    "    \n",
    "    data= np.array(list_vals)\n",
    "    print(data)\n",
    "    \n",
    "    \n"
   ]
  },
  {
   "cell_type": "markdown",
   "metadata": {},
   "source": [
    "# Lecture string/bytes et importance de l'encoding (UTF-8)\n"
   ]
  },
  {
   "cell_type": "code",
   "execution_count": 44,
   "metadata": {},
   "outputs": [
    {
     "name": "stdout",
     "output_type": "stream",
     "text": [
      "b\"Ceci est une chaine d'octets\"\n",
      "<class 'bytes'>\n",
      "b\"Ceci est une chaine d'octets\"\n",
      "Ceci est une chaine de caractères particuliers 你好\n",
      "<class 'str'>\n",
      "C\n"
     ]
    }
   ],
   "source": [
    "chaine1 = b\"Ceci est une chaine d'octets\"\n",
    "\n",
    "print(chaine1)\n",
    "print(type(chaine1))\n",
    "print(chaine1[0])\n",
    "\n",
    "chaine2 = \"Ceci est une chaine de caractères particuliers 你好\"\n",
    "\n",
    "print(chaine2)\n",
    "print(type(chaine2))\n",
    "print(chaine2[0])\n",
    "\n",
    "f = open(\"chaine.txt\",'wb')\n",
    "f.write(chaine1)\n",
    "f.close()\n",
    "\n",
    "f = open(\"chaine.txt\",'a')\n",
    "f.write('\\n')\n",
    "f.write(chaine2)\n",
    "f.close()"
   ]
  },
  {
   "cell_type": "code",
   "execution_count": 48,
   "metadata": {},
   "outputs": [
    {
     "name": "stdout",
     "output_type": "stream",
     "text": [
      "Ceci est une chaine d'octets\n",
      "Ceci est une chaine de caractères particuliers 你好 <class 'str'> 78\n",
      "b\"Ceci est une chaine d'octets\\nCeci est une chaine de caract\\xc3\\xa8res particuliers \\xe4\\xbd\\xa0\\xe5\\xa5\\xbd\" <class 'bytes'> 83\n",
      "Ceci est une chaine d'octets\n",
      "Ceci est une chaine de caractères particuliers 你好 <class 'str'>\n"
     ]
    }
   ],
   "source": [
    "with open('chaine.txt', mode= 'r', encoding='utf8') as f:\n",
    "    txt = f.read()\n",
    "    print(txt, type(txt), len(txt))\n",
    "    \n",
    "with open('chaine.txt', mode='rb') as f:\n",
    "    b = f.read()\n",
    "    print(b, type(b), len(b))\n",
    "    \n",
    "    txt2 = b.decode('utf8')\n",
    "    print(txt2, type(txt2))   \n",
    " "
   ]
  },
  {
   "cell_type": "markdown",
   "metadata": {},
   "source": [
    "# Sauvegarde et lecture avec numpy : format texte\n"
   ]
  },
  {
   "cell_type": "markdown",
   "metadata": {},
   "source": [
    "## loadtxt "
   ]
  },
  {
   "cell_type": "code",
   "execution_count": 49,
   "metadata": {},
   "outputs": [
    {
     "name": "stdout",
     "output_type": "stream",
     "text": [
      "[[-12.  56.   4.]\n",
      " [  6.  50.  12.]\n",
      " [  8.  36.   2.]\n",
      " [ 24.  24. -18.]\n",
      " [-12.  22.  28.]\n",
      " [-12.  22.  26.]\n",
      " [-32.  20. -18.]\n",
      " [-28.  16.  32.]\n",
      " [-48.  14.   8.]\n",
      " [-10.  10.  44.]\n",
      " [-34.   8.  38.]\n",
      " [  4.   6.  50.]\n",
      " [  4.   6.  50.]\n",
      " [ 10.   4.  74.]\n",
      " [ -2.   4.  44.]\n",
      " [ 24.   4. -10.]\n",
      " [ 24.   4. -16.]\n",
      " [ 40.   2.  62.]\n",
      " [-54.   2.  38.]\n",
      " [-26.  -4.  70.]]\n"
     ]
    }
   ],
   "source": [
    "import numpy as np\n",
    "\n",
    "data = np.loadtxt('./data/Coords.txt') \n",
    "print (data)\n",
    "\n"
   ]
  },
  {
   "cell_type": "markdown",
   "metadata": {},
   "source": [
    "### par default, delimiter = \"any whitespace\", c.a.d. un ou plusieurs espace et/ou tabulations\n",
    "\n",
    "!!! on ne specifie pas le format avec loadtxt. Il a y de fortes chances que l'on ait a le modifier avec:\n",
    "np.array(data,dtype = 'int') par exemple"
   ]
  },
  {
   "cell_type": "code",
   "execution_count": 50,
   "metadata": {},
   "outputs": [
    {
     "name": "stdout",
     "output_type": "stream",
     "text": [
      "[[-12  56   4]\n",
      " [  6  50  12]\n",
      " [  8  36   2]\n",
      " [ 24  24 -18]\n",
      " [-12  22  28]\n",
      " [-12  22  26]\n",
      " [-32  20 -18]\n",
      " [-28  16  32]\n",
      " [-48  14   8]\n",
      " [-10  10  44]\n",
      " [-34   8  38]\n",
      " [  4   6  50]\n",
      " [  4   6  50]\n",
      " [ 10   4  74]\n",
      " [ -2   4  44]\n",
      " [ 24   4 -10]\n",
      " [ 24   4 -16]\n",
      " [ 40   2  62]\n",
      " [-54   2  38]\n",
      " [-26  -4  70]]\n"
     ]
    }
   ],
   "source": [
    "data_int = np.array( np.loadtxt('./data/Coords.txt') ,dtype = 'int') ### attention quand meme au type 'int'; pour les grandes valeurs, il vaut mieux preferer int64\n",
    "print(data_int)"
   ]
  },
  {
   "cell_type": "markdown",
   "metadata": {},
   "source": [
    "## savetxt"
   ]
  },
  {
   "cell_type": "code",
   "execution_count": 51,
   "metadata": {},
   "outputs": [
    {
     "name": "stdout",
     "output_type": "stream",
     "text": [
      "[[0. 0. 0. ... 0. 0. 0.]\n",
      " [0. 0. 0. ... 0. 0. 0.]\n",
      " [0. 0. 0. ... 0. 0. 0.]\n",
      " ...\n",
      " [0. 0. 0. ... 0. 0. 0.]\n",
      " [0. 0. 0. ... 0. 0. 0.]\n",
      " [0. 0. 0. ... 0. 0. 0.]]\n"
     ]
    }
   ],
   "source": [
    "bigmat = np.zeros(shape = (1000,1000), dtype = \"float64\")\n",
    "\n",
    "print(bigmat)"
   ]
  },
  {
   "cell_type": "markdown",
   "metadata": {},
   "source": [
    "\n",
    "numpy.savetxt\n",
    "\n",
    "!!!  Attention à l'ordre: fichier et ensuite ndarray\n",
    "\n",
    "fmt est le format d'ecriture: %d pour un entier, %f pour un float (nombre a virgule), %s pour une chaine de carateres"
   ]
  },
  {
   "cell_type": "code",
   "execution_count": 52,
   "metadata": {
    "collapsed": true
   },
   "outputs": [],
   "source": [
    "bigmat_f = np.array(bigmat,dtype = 'float')\n",
    "filename3 =\"bigmat_f.txt\"\n",
    "\n",
    "np.savetxt(filename3, bigmat_f, fmt = \"%f\")\n",
    "### bigmat_f.txt 9.0Mo"
   ]
  },
  {
   "cell_type": "code",
   "execution_count": 54,
   "metadata": {},
   "outputs": [],
   "source": [
    "##on peut aussi sauver le tableau de nombres a virgule sous forme d'entiers\n",
    "filename = \"mat.txt\"\n",
    "\n",
    "np.savetxt(filename,bigmat_f, fmt = \"%d\")"
   ]
  },
  {
   "cell_type": "markdown",
   "metadata": {},
   "source": [
    "# Sauvegarde et lecture avec numpy : format .npy, load et save"
   ]
  },
  {
   "cell_type": "markdown",
   "metadata": {},
   "source": [
    "numpy dispose directement d'un format compressé, non lisible dans un editeur de texte, mais permettant d'etre transmis et lu facilement sur un autre systeme.\n",
    "\n",
    "L' extension de ces fichiers compressé est \".npy\"\n"
   ]
  },
  {
   "cell_type": "code",
   "execution_count": 55,
   "metadata": {
    "collapsed": true
   },
   "outputs": [],
   "source": [
    "### save\n",
    "\n",
    "filename3 =\"bigmat_f.npy\"\n",
    "\n",
    "np.save(filename3,bigmat_f)\n",
    "\n",
    "### bigmat_f.npy 8.0Mo"
   ]
  },
  {
   "cell_type": "code",
   "execution_count": 61,
   "metadata": {
    "collapsed": true
   },
   "outputs": [
    {
     "name": "stdout",
     "output_type": "stream",
     "text": [
      "[[0. 0. 0. ... 0. 0. 0.]\n",
      " [0. 0. 0. ... 0. 0. 0.]\n",
      " [0. 0. 0. ... 0. 0. 0.]\n",
      " ...\n",
      " [0. 0. 0. ... 0. 0. 0.]\n",
      " [0. 0. 0. ... 0. 0. 0.]\n",
      " [0. 0. 0. ... 0. 0. 0.]]\n"
     ]
    }
   ],
   "source": [
    "### relecture avec load\n",
    "bigmat_f = np.load(filename3)\n",
    "\n",
    "print(bigmat_f)"
   ]
  },
  {
   "cell_type": "markdown",
   "metadata": {},
   "source": [
    "!!! là encore, on ne spécifie pas le type de données en lecture, donc il y a de fortes chances que l'on ait à forcer le dtype du tableau"
   ]
  },
  {
   "cell_type": "code",
   "execution_count": 62,
   "metadata": {
    "collapsed": true
   },
   "outputs": [
    {
     "name": "stdout",
     "output_type": "stream",
     "text": [
      "[[0 0 0 ... 0 0 0]\n",
      " [0 0 0 ... 0 0 0]\n",
      " [0 0 0 ... 0 0 0]\n",
      " ...\n",
      " [0 0 0 ... 0 0 0]\n",
      " [0 0 0 ... 0 0 0]\n",
      " [0 0 0 ... 0 0 0]]\n"
     ]
    }
   ],
   "source": [
    "bigmat = np.array(bigmat_f,dtype = 'int')\n",
    "\n",
    "print(bigmat)"
   ]
  },
  {
   "cell_type": "markdown",
   "metadata": {},
   "source": [
    "# Concept d'Arborescence"
   ]
  },
  {
   "cell_type": "markdown",
   "metadata": {},
   "source": [
    "![Image](./img/mac_tree.png)     ![Image](./img/win_tree.jpg)    ![Image](./img/linux-tree.png)"
   ]
  },
  {
   "cell_type": "markdown",
   "metadata": {},
   "source": [
    "Racine :\n",
    "\n",
    "    mac et linux : /\n",
    "    \n",
    "    windows : C:\\\n",
    "            \n"
   ]
  },
  {
   "cell_type": "markdown",
   "metadata": {},
   "source": [
    "Chemin absolu :\n",
    "    \n",
    "    linux : /home/alex/projets/formation_python/\n",
    "    \n",
    "    windows : C:\\\\Users\\\\alex\\\\projets\\\\formation_python\\\\   (double\\ car caractère d'échapement)\n",
    "    \n",
    "    mac : /Disque dur/Users/alex/projets/formation_python/"
   ]
  },
  {
   "cell_type": "markdown",
   "metadata": {},
   "source": [
    "Chemin relatif :\n",
    "\n",
    "    ./          là ou je suis actuellement\n",
    "    ./../       je remonte d'un dossier par rapport à là ou je suis\n",
    "    \n",
    "    idem windows mais avec \\\n",
    "    \n",
    "    \n",
    "    exemple : np.loadtxt('./data/Coords.txt') \n",
    "    \n",
    "    "
   ]
  },
  {
   "cell_type": "markdown",
   "metadata": {},
   "source": [
    "___\n",
    "## Le module os (Operating System)\n",
    "___\n",
    "\n",
    "\n",
    "### 1 - Prendre de l'information sur le sysème de fichiers\n",
    "\n",
    "+ import os\n",
    "\n",
    "\n",
    "+ os.uname() : infos système\n",
    "\n",
    "\n",
    "+ os.getcwd() : pour obtenir le répertoire en cours\n",
    "\n",
    "\n",
    "+ os.path.abspath(path) : retourne une version absolue du chemin path\n",
    "\n",
    "\n",
    "+ os.path.relpath(path[, start]) : retourne une version relative du chemin path. Par défaut, par rapport au working dir, sinon : spécifier un argument start qui sera le répertoire de base\n",
    "\n",
    "\n",
    "### 2 - Faire des actions sur le système de fichiers\n",
    "\n",
    "+ os.chdir(foldername)  : va dans le répertoire spécifié\n",
    "\n",
    "\n",
    "+ os.mkdir(’mydir’) : crée le répertoire mydir\n",
    "\n",
    "\n",
    "+ os.rename(oldname, newname) : renomme oldname en newname\n",
    "\n",
    "\n",
    "+ os.remove(filename) : efface le fichier filename\n",
    "\n",
    "\n",
    "### 3 - Utilitaires\n",
    "\n",
    "+ os.path.join(morceau1, morceau2) : colle deux morceaux de chemin ensemble  en utilisant les caractères adaptés au système\n",
    "\n",
    "\n",
    "+ os.path.expanduser(\"~\") : retourne le chemin vers le répertoire \"Home\" de l'utilisateur sur la machine\n",
    "\n",
    "\n",
    "+ os.path.split(racine/nomfichier_ou_rep) : permet de séparer la dernière branche de la racine, résultat sous forme de tuple\n",
    "    *ex : (filepath, filename) = os.path.split(\"/Users/admin/Desktop\") \n",
    "    *filename: \"Desktop\"\n",
    "\n",
    "\n",
    "+ os.path.splitext(nomfichier.extension) : sépare le nom de l'extension. Résultat sous forme de tuple\n",
    "\n",
    "\n",
    "+ os.listdir(path) :  prend un nom de chemin et retourne une liste du contenu du répertoire.\n",
    "\n",
    "\n",
    "+ os.path.isfile : pour séparer les fichiers des répertoires. (os.path.isdir existe aussi). isfile prend un nom de chemin et :\n",
    "     *retourne 1 / True si le chemin représente un fichier\n",
    "     *0 / False dans le cas contraire. \n",
    "\n",
    "\n",
    "+ os.walk(top, topdown=True) : à parir de top (repertoire racine), parcourt l'arborescence en descendant si topdown=True, en montant sinon, et renvoie un tuple : (dirpath, dirnames, filenames) qui contient tous les répertoires dirnames rencontrés avec les fichiers filenames qui s'y trouvent\n",
    "\n",
    ">for dossier, sous_dossiers, fichiers in os.walk('/tmp/test'):\n",
    "\n",
    ">        for fichier in fichiers:\n",
    "\n",
    ">            print(os.path.join(dossier, fichier))"
   ]
  },
  {
   "cell_type": "markdown",
   "metadata": {},
   "source": [
    "## Le module pathlib"
   ]
  },
  {
   "cell_type": "code",
   "execution_count": 5,
   "metadata": {},
   "outputs": [
    {
     "data": {
      "text/plain": [
       "PosixPath('/home/samuel')"
      ]
     },
     "execution_count": 5,
     "metadata": {},
     "output_type": "execute_result"
    }
   ],
   "source": [
    "from pathlib import Path\n",
    "\n",
    "home = Path.home()\n",
    "home\n"
   ]
  },
  {
   "cell_type": "code",
   "execution_count": 6,
   "metadata": {},
   "outputs": [
    {
     "data": {
      "text/plain": [
       "PosixPath('/home/samuel/Documents')"
      ]
     },
     "execution_count": 6,
     "metadata": {},
     "output_type": "execute_result"
    }
   ],
   "source": [
    "doc = home / 'Documents'\n",
    "doc"
   ]
  },
  {
   "cell_type": "code",
   "execution_count": 10,
   "metadata": {},
   "outputs": [
    {
     "name": "stdout",
     "output_type": "stream",
     "text": [
      "/mnt\n",
      "/dev\n",
      "/boot\n",
      "/usr\n",
      "/lost+found\n",
      "/root\n",
      "/sys\n",
      "/lib64\n",
      "/etc\n",
      "/vmlinuz.old\n",
      "/bin\n",
      "/srv\n",
      "/media\n",
      "/lib\n",
      "/lib32\n",
      "/cdrom\n",
      "/proc\n",
      "/opt\n",
      "/run\n",
      "/home\n",
      "/swapfile\n",
      "/var\n",
      "/sbin\n",
      "/vmlinuz\n",
      "/initrd.img.old\n",
      "/initrd.img\n",
      "/tmp\n",
      "/snap\n"
     ]
    }
   ],
   "source": [
    "for item in Path('/').iterdir():\n",
    "    print(item)"
   ]
  },
  {
   "cell_type": "code",
   "execution_count": 22,
   "metadata": {},
   "outputs": [
    {
     "name": "stdout",
     "output_type": "stream",
     "text": [
      "True\n",
      "Figure_1\n",
      ".png\n",
      "/home/samuel\n",
      "/home/samuel\n",
      "/home\n",
      "/\n"
     ]
    }
   ],
   "source": [
    "file_path = Path('/home/samuel/Figure_1.png')\n",
    "\n",
    "print(file_path.is_file())\n",
    "\n",
    "print(file_path.stem)\n",
    "print(file_path.suffix)\n",
    "print(file_path.parent)\n",
    "print(file_path.parents[0])\n",
    "print(file_path.parents[1])\n",
    "print(file_path.parents[2])\n",
    "\n"
   ]
  },
  {
   "cell_type": "markdown",
   "metadata": {},
   "source": [
    "# Exercice 1 - Navigation\n",
    "\n",
    "* Récuperez le chemin de votre répertoire \"home\".\n",
    "* Créez une variable contenant le chemin vers votre bureau.\n",
    "* A partir de cette deuxième variable, récuperez le chemin de votre \"home\"\n",
    "* faites afficher le chemin vers vos documents\n",
    "* faites afficher le chemin vers le répertoire parent de Documents"
   ]
  },
  {
   "cell_type": "markdown",
   "metadata": {},
   "source": [
    "# Solution 1 :"
   ]
  },
  {
   "cell_type": "code",
   "execution_count": null,
   "metadata": {},
   "outputs": [],
   "source": []
  },
  {
   "cell_type": "markdown",
   "metadata": {},
   "source": [
    "# Exercice 2 - liste de répertoires\n",
    "\n",
    "* Placez vous dans le répertoire Home\n",
    "* faites afficher la liste de tous les répertoires\n",
    "* puis : tous les répertoires qui ne commencent pas par \".\" (sous mac ou linux), \n",
    "* ou tous ceux qui commencent par une lettre de votre choix\n"
   ]
  },
  {
   "cell_type": "markdown",
   "metadata": {},
   "source": [
    "# Solution 2 :"
   ]
  },
  {
   "cell_type": "code",
   "execution_count": null,
   "metadata": {},
   "outputs": [],
   "source": [
    "\n"
   ]
  },
  {
   "cell_type": "markdown",
   "metadata": {},
   "source": [
    "# Exercice 3 - Fichiers et extensions\n",
    "\n",
    "Faites afficher la liste de tous les fichiers \n",
    "ayant pour extensions .doc ou .docx de votre répertoire documents"
   ]
  },
  {
   "cell_type": "markdown",
   "metadata": {},
   "source": [
    "# Solution 3 :"
   ]
  },
  {
   "cell_type": "code",
   "execution_count": null,
   "metadata": {},
   "outputs": [],
   "source": []
  },
  {
   "cell_type": "markdown",
   "metadata": {},
   "source": [
    "# Exercice 4 - Walk\n",
    "\n",
    "Sans changer le cwd, parcourez le répertoire Desktop (avec sous-répertoires) et faites afficher :\n",
    "\n",
    "- la liste des sous-répertoires contenus sur le Desktop\n",
    "- la liste de tous les fichiers (y compris ceux qui sont dans les sous-répertoires) qui contiennent au moins un \"C\" majuscule\n"
   ]
  },
  {
   "cell_type": "markdown",
   "metadata": {},
   "source": [
    "# Solution 4 :"
   ]
  },
  {
   "cell_type": "code",
   "execution_count": null,
   "metadata": {},
   "outputs": [],
   "source": []
  },
  {
   "cell_type": "markdown",
   "metadata": {},
   "source": [
    "# Exercice 5 - Abspath\n",
    "\n",
    "Faire lister le chemin absolu de tous les éléments dans le répertoire courant (voir ci-dessous les chemins Unix-Style)"
   ]
  },
  {
   "cell_type": "markdown",
   "metadata": {},
   "source": [
    "# Solution 5 :"
   ]
  },
  {
   "cell_type": "code",
   "execution_count": null,
   "metadata": {},
   "outputs": [],
   "source": []
  },
  {
   "cell_type": "markdown",
   "metadata": {},
   "source": [
    "___\n",
    "## Le module glob\n",
    "___\n",
    "\n",
    "\n",
    "### 0 - glob \n",
    "+ os.listdir : prend simplement un chemin de répertoire et retourne la liste de tous les fichiers et répertoires qu'il contient. On peut ensuite filtrer par compréhension de listes mais ce n'est pas toujours simple\n",
    "    \n",
    "    \n",
    "    > list_RT_files=[el for el in os.listdir(os.getcwd()) if (os.path.isfile(el) & el.count(\"a\"))]\n",
    "    \n",
    "    > print(list_RT_files)\n",
    "\n",
    "+ Le module glob est beaucoup plus simple pour accéder à certains fichiers. Il prend un joker et retourne le chemin complet de tous les fichiers et répertoires qui lui correspondent. \n",
    "\n",
    "### 1 - glob et jokers\n",
    "+ Joker : \n",
    "    * caractère * = toutes les chaines\n",
    "    * s* = toutes celles qui commencent par \"s\"\n",
    "    * *3 = toutes celles qui finissent par 3\n",
    "    * [1-4] = 1, 2 3 ou 4\n",
    "    * [0123456789] = [0-9]\n",
    "    * [ert] = e, r , ou t\n",
    "    * ? : un seul caractère\n",
    "    \n",
    "+ for name in glob.glob('dir/file?.txt'):\n",
    "\n",
    "+ plot*[1-4]*.dat : plotfoo2er.dat, plot1.dat mais pas plotFOoFoo8.dat, ni ploploplo2.dat\n",
    "\n",
    "\n",
    "+ Et chemin relatif, Unix-style : \n",
    "    * . = ici\n",
    "    * .. = au dessus\n",
    "    * caractère * : monrep, monfichier, monfichier.extension\n",
    "    * \\*.\\* : monfichier.extension"
   ]
  },
  {
   "cell_type": "markdown",
   "metadata": {},
   "source": [
    "# Exercice 6 - liste de mp3\n",
    "\n",
    "Vous avez surement des mp3 sur votre ordinateur, ne mentez pas.\n",
    "\n",
    "Si vous êtes ordonnés ils sont peut-être rangés dans des répertoires correspondant aux albums.\n",
    "\n",
    "Faites afficher \"proprement\", à l'aide d'un seul glob la liste de tous vos mp3 contenus dans votre répertoire Music, sans passer par les chemins absolus\n",
    "\n",
    "Faites ensuite afficher tous les morceaux :\n",
    "+ contenant un i ou un y ou un ï\n",
    "+ tous ceux contenant un chiffre de 1 à 9\n",
    "+ tous ceux avec un chiffre puis un blanc pluis une parenthèse\n",
    "etc..."
   ]
  },
  {
   "cell_type": "markdown",
   "metadata": {},
   "source": [
    "# Solution 6 "
   ]
  },
  {
   "cell_type": "code",
   "execution_count": null,
   "metadata": {},
   "outputs": [],
   "source": [
    "\n",
    "   \n"
   ]
  },
  {
   "cell_type": "markdown",
   "metadata": {},
   "source": []
  },
  {
   "cell_type": "code",
   "execution_count": null,
   "metadata": {},
   "outputs": [],
   "source": []
  }
 ],
 "metadata": {
  "kernelspec": {
   "display_name": "Python 3",
   "language": "python",
   "name": "python3"
  },
  "language_info": {
   "codemirror_mode": {
    "name": "ipython",
    "version": 3
   },
   "file_extension": ".py",
   "mimetype": "text/x-python",
   "name": "python",
   "nbconvert_exporter": "python",
   "pygments_lexer": "ipython3",
   "version": "3.8.10"
  }
 },
 "nbformat": 4,
 "nbformat_minor": 2
}
