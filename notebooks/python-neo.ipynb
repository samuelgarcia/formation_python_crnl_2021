{
 "cells": [
  {
   "cell_type": "markdown",
   "metadata": {},
   "source": [
    "#  préambule : quantities"
   ]
  },
  {
   "cell_type": "code",
   "execution_count": 1,
   "metadata": {},
   "outputs": [
    {
     "name": "stdout",
     "output_type": "stream",
     "text": [
      "91000.0 ms\n",
      "[1000. 1001. 1002. 1003. 1004. 1005. 1006. 1007. 1008. 1009.] ms\n",
      "[0.01666667 0.01668333 0.0167     0.01671667 0.01673333 0.01675\n",
      " 0.01676667 0.01678333 0.0168     0.01681667] min\n"
     ]
    }
   ],
   "source": [
    "import quantities as pq\n",
    "import numpy as np\n",
    "\n",
    "t1 = 1000 * pq.ms\n",
    "t2 = 1.5 * pq.min\n",
    "print(t1+t2)\n",
    "\n",
    "t1 = np.arange(10) * pq.ms\n",
    "t2 = pq.Quantity(np.ones(10), units='s')\n",
    "t3 = t1 + t2\n",
    "print(t3)\n",
    "t4 = t3.rescale('min')\n",
    "print(t4)\n"
   ]
  },
  {
   "cell_type": "markdown",
   "metadata": {},
   "source": [
    "# neo = neuro electrophysiological objects\n",
    "\n",
    "![](img/neo_logo.png)\n",
    "\n",
    "Neo est un modules python qui permet:\n",
    "  * de représenetr des object pour l'electrophy (AnalogSignal, Event, SpikeTrain...)\n",
    "  * de lire plein deformat de:\n",
    "    * Blackrock\n",
    "    * Micromed\n",
    "    * Brainvision\n",
    "    * Neuralynx\n",
    "    * Plexon\n",
    "    * Spike2\n",
    "    * Elan\n",
    "    * tdt\n",
    "    * ...\n"
   ]
  },
  {
   "cell_type": "markdown",
   "metadata": {},
   "source": [
    "# Object\n",
    "\n",
    "![](img/neo_base_schematic.png)\n"
   ]
  },
  {
   "cell_type": "markdown",
   "metadata": {},
   "source": [
    "# Multi segment\n",
    "\n",
    "![](img/neo_multi_segment_diagram.png)"
   ]
  },
  {
   "cell_type": "markdown",
   "metadata": {},
   "source": [
    "# Lire du micromed"
   ]
  },
  {
   "cell_type": "code",
   "execution_count": 2,
   "metadata": {},
   "outputs": [],
   "source": [
    "import neo\n",
    "\n",
    "reader = neo.MicromedIO(filename='./data/File_micromed_1.TRC')\n"
   ]
  },
  {
   "cell_type": "code",
   "execution_count": 3,
   "metadata": {},
   "outputs": [
    {
     "name": "stdout",
     "output_type": "stream",
     "text": [
      "MicromedIO: ./data/File_micromed_1.TRC\n",
      "nb_block: 1\n",
      "nb_segment:  [1]\n",
      "signal_streams: [Signals (chans: 64)]\n",
      "signal_channels: [FP1, FP2, AF7, AF3 ... Trig , VEOG , HEOG , EMG]\n",
      "spike_channels: []\n",
      "event_channels: [Trigger, Note, Event A, Event B]\n",
      "\n"
     ]
    }
   ],
   "source": [
    "print(reader)"
   ]
  },
  {
   "cell_type": "markdown",
   "metadata": {},
   "source": [
    "# 1 seul block qui contient 1 seul segment"
   ]
  },
  {
   "cell_type": "code",
   "execution_count": 4,
   "metadata": {},
   "outputs": [
    {
     "name": "stdout",
     "output_type": "stream",
     "text": [
      "nb segment 1\n"
     ]
    }
   ],
   "source": [
    "block = reader.read_block()\n",
    "print('nb segment', len(block.segments))"
   ]
  },
  {
   "cell_type": "markdown",
   "metadata": {},
   "source": [
    "# qui contient plusieurs des object \"data\""
   ]
  },
  {
   "cell_type": "code",
   "execution_count": 5,
   "metadata": {},
   "outputs": [
    {
     "name": "stdout",
     "output_type": "stream",
     "text": [
      "nb AnalogSignal 1\n",
      "nb SpikeTrain 0\n",
      "nb Event 2\n"
     ]
    }
   ],
   "source": [
    "seg = block.segments[0]\n",
    "print('nb AnalogSignal', len(seg.analogsignals))\n",
    "print('nb SpikeTrain', len(seg.spiketrains))\n",
    "print('nb Event', len(seg.events))"
   ]
  },
  {
   "cell_type": "markdown",
   "metadata": {},
   "source": [
    "# AnalogSignal\n",
    "\n",
    "contient:\n",
    "\n",
    "  * datas\n",
    "  * des unité\n",
    "  * sampling_rate\n",
    "  * t_start\n",
    "  * vecteur temps: times\n",
    "  * name/description\n",
    "  * annotations"
   ]
  },
  {
   "cell_type": "code",
   "execution_count": 8,
   "metadata": {},
   "outputs": [
    {
     "name": "stdout",
     "output_type": "stream",
     "text": [
      "[[-177.2461   -141.99219  -116.40625  ... -120.703125   17.382812\n",
      "   107.22656 ]\n",
      " [-224.70703  -119.82422  -150.97656  ... -107.12891    11.328125\n",
      "   114.84375 ]\n",
      " [-266.01562  -137.30469  -200.48828  ... -113.57422    18.261719\n",
      "    37.5     ]\n",
      " ...\n",
      " [ -35.253906   22.851562   41.601562 ...   85.05859   100.19531\n",
      "  -189.84375 ]\n",
      " [ -99.21875    81.25       57.03125  ...   88.47656   150.6836\n",
      "  -155.3711  ]\n",
      " [-152.92969    24.316406   88.28125  ...   87.20703   152.73438\n",
      "  -136.6211  ]] uV\n"
     ]
    }
   ],
   "source": [
    "anasig = seg.analogsignals[0]\n",
    "print(anasig)"
   ]
  },
  {
   "cell_type": "code",
   "execution_count": 9,
   "metadata": {},
   "outputs": [
    {
     "name": "stdout",
     "output_type": "stream",
     "text": [
      "(1000, 64)\n",
      "1.0 uV\n",
      "Signals\n",
      "{'stream_id': '0'}\n"
     ]
    }
   ],
   "source": [
    "print(anasig.shape)\n",
    "print(anasig.units)\n",
    "print(anasig.name)\n",
    "print(anasig.annotations)\n"
   ]
  },
  {
   "cell_type": "markdown",
   "metadata": {},
   "source": [
    "# revenir vers du numpy array avec la bonne unité"
   ]
  },
  {
   "cell_type": "code",
   "execution_count": 10,
   "metadata": {},
   "outputs": [
    {
     "name": "stdout",
     "output_type": "stream",
     "text": [
      "<class 'neo.core.analogsignal.AnalogSignal'>\n",
      "<class 'numpy.ndarray'>\n",
      "[[-0.17724611 -0.1419922  -0.11640625 ... -0.12070313  0.01738281\n",
      "   0.10722657]\n",
      " [-0.22470704 -0.11982422 -0.15097657 ... -0.10712891  0.01132813\n",
      "   0.11484376]\n",
      " [-0.26601565 -0.1373047  -0.20048828 ... -0.11357422  0.01826172\n",
      "   0.0375    ]\n",
      " ...\n",
      " [-0.03525391  0.02285156  0.04160156 ...  0.0850586   0.10019532\n",
      "  -0.18984376]\n",
      " [-0.09921876  0.08125     0.05703125 ...  0.08847657  0.1506836\n",
      "  -0.1553711 ]\n",
      " [-0.1529297   0.02431641  0.08828125 ...  0.08720703  0.15273438\n",
      "  -0.1366211 ]]\n"
     ]
    }
   ],
   "source": [
    "np_sig = anasig.rescale('mV').magnitude\n",
    "print(type(anasig))\n",
    "print(type(np_sig))\n",
    "print(np_sig)"
   ]
  },
  {
   "cell_type": "markdown",
   "metadata": {},
   "source": [
    "# lire les \"triggers\" = Event ou Epoch"
   ]
  },
  {
   "cell_type": "code",
   "execution_count": 11,
   "metadata": {},
   "outputs": [
    {
     "name": "stdout",
     "output_type": "stream",
     "text": [
      "\n",
      "name Trigger\n",
      "times [0.203125   1.12890625 2.02734375 3.82421875] s\n",
      "labels ['1' '1' '1' '1']\n",
      "\n",
      "name Note\n",
      "times [] s\n",
      "labels []\n",
      "\n",
      "name Event A\n",
      "times [] s\n",
      "durations [] s\n",
      "labels []\n",
      "\n",
      "name Event B\n",
      "times [] s\n",
      "durations [] s\n",
      "labels []\n"
     ]
    }
   ],
   "source": [
    "for ev in seg.events:\n",
    "    print()\n",
    "    print('name', ev.name)\n",
    "    print('times', ev.times)\n",
    "    print('labels', ev.labels)\n",
    "\n",
    "for ep in seg.epochs:\n",
    "    print()\n",
    "    print('name', ep.name)\n",
    "    print('times', ep.times)\n",
    "    print('durations', ep.durations)\n",
    "    print('labels', ep.labels)\n"
   ]
  },
  {
   "cell_type": "markdown",
   "metadata": {},
   "source": [
    "# plot\n",
    "\n",
    "remarquer dans l'example comme c'est facile de choisir l'unité de temps."
   ]
  },
  {
   "cell_type": "code",
   "execution_count": 12,
   "metadata": {},
   "outputs": [
    {
     "data": {
      "image/png": "[encoded data removed]",
      "text/plain": [
       "<Figure size 432x288 with 1 Axes>"
      ]
     },
     "metadata": {
      "needs_background": "light"
     },
     "output_type": "display_data"
    }
   ],
   "source": [
    "%matplotlib inline\n",
    "import matplotlib.pyplot as plt\n",
    "fig, ax = plt.subplots()\n",
    "\n",
    "for chan in [10, 50]:\n",
    "    ax.plot(anasig.times.rescale('ms'), anasig[:, chan].magnitude)\n",
    "\n",
    "for t in seg.events[0].times:\n",
    "    ax.axvline(t.rescale('ms'))\n"
   ]
  },
  {
   "cell_type": "code",
   "execution_count": null,
   "metadata": {
    "collapsed": true
   },
   "outputs": [],
   "source": []
  }
 ],
 "metadata": {
  "kernelspec": {
   "display_name": "Python 3",
   "language": "python",
   "name": "python3"
  },
  "language_info": {
   "codemirror_mode": {
    "name": "ipython",
    "version": 3
   },
   "file_extension": ".py",
   "mimetype": "text/x-python",
   "name": "python",
   "nbconvert_exporter": "python",
   "pygments_lexer": "ipython3",
   "version": "3.8.10"
  }
 },
 "nbformat": 4,
 "nbformat_minor": 2
}
